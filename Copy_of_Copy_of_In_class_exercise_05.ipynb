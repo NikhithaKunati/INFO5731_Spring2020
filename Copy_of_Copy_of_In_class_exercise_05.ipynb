{
  "nbformat": 4,
  "nbformat_minor": 0,
  "metadata": {
    "colab": {
      "name": "Copy of Copy of In_class_exercise_05.ipynb",
      "provenance": [],
      "collapsed_sections": [],
      "include_colab_link": true
    },
    "kernelspec": {
      "name": "python3",
      "display_name": "Python 3"
    }
  },
  "cells": [
    {
      "cell_type": "markdown",
      "metadata": {
        "id": "view-in-github",
        "colab_type": "text"
      },
      "source": [
        "<a href=\"https://colab.research.google.com/github/NikhithaKunati/INFO5731_Spring2020/blob/master/Copy_of_Copy_of_In_class_exercise_05.ipynb\" target=\"_parent\"><img src=\"https://colab.research.google.com/assets/colab-badge.svg\" alt=\"Open In Colab\"/></a>"
      ]
    },
    {
      "cell_type": "markdown",
      "metadata": {
        "id": "z7TahL04sVvR",
        "colab_type": "text"
      },
      "source": [
        "# **The fifth in-class-exercise**"
      ]
    },
    {
      "cell_type": "markdown",
      "metadata": {
        "id": "ejyZITr8sjnh",
        "colab_type": "text"
      },
      "source": [
        "## **1. Rule-based information extraction**\n",
        "\n",
        "Use any keywords related to data science, natural language processing, machine learning to search from google scholar, get the **titles** of 100 articles (either by web scraping or manually) about this topic, define a set of patterns to extract the research questions/problems, methods/algorithms/models, datasets, applications, or any other important information about this topic. "
      ]
    },
    {
      "cell_type": "markdown",
      "metadata": {
        "id": "zmkWvgFHGP_3",
        "colab_type": "text"
      },
      "source": [
        "**Google Search**"
      ]
    },
    {
      "cell_type": "code",
      "metadata": {
        "id": "XvR_O9D8sOUY",
        "colab_type": "code",
        "outputId": "59c75b82-f33e-444a-9550-ec3b17bae03e",
        "colab": {
          "base_uri": "https://localhost:8080/",
          "height": 1000
        }
      },
      "source": [
        "# Write your code here\n",
        "!pip install beautifulsoup4\n",
        "!pip install google\n",
        "try:\n",
        "  from googlesearch import search\n",
        "except ImportError:\n",
        "  print(\"No module named 'google' found\") \n",
        "query = \"computer\"  \n",
        "for j in search(query, tld=\"co.in\", num=100, stop=100): \n",
        "    print(j)"
      ],
      "execution_count": 0,
      "outputs": [
        {
          "output_type": "stream",
          "text": [
            "Requirement already satisfied: beautifulsoup4 in /usr/local/lib/python3.6/dist-packages (4.6.3)\n",
            "Requirement already satisfied: google in /usr/local/lib/python3.6/dist-packages (2.0.3)\n",
            "Requirement already satisfied: beautifulsoup4 in /usr/local/lib/python3.6/dist-packages (from google) (4.6.3)\n",
            "https://www.bestbuy.com/site/electronics/computers-pcs/abcat0500000.c?id=abcat0500000\n",
            "https://www.bestbuy.com/site/computers-pcs/computer-accessories/abcat0515000.c?id=abcat0515000\n",
            "https://www.bestbuy.com/site/computers-pcs/computer-cards-components/abcat0507000.c?id=abcat0507000\n",
            "https://www.bestbuy.com/site/computers-pcs/e-reader-devices/pcmcat193100050014.c?id=pcmcat193100050014\n",
            "https://en.wikipedia.org/wiki/Computer\n",
            "https://en.wikipedia.org/wiki/Personal_computer\n",
            "https://en.wikipedia.org/wiki/Computer_hardware\n",
            "https://en.wikipedia.org/wiki/History_of_personal_computers\n",
            "https://en.wikipedia.org/wiki/Computer_program\n",
            "https://www.newegg.com/Computer-Systems/Store/ID-3\n",
            "https://www.newegg.com/Desktop-Computers/Category/ID-228\n",
            "https://www.newegg.com/Laptops-Notebooks/Category/ID-223\n",
            "https://www.newegg.com/Monitors/Category/ID-19\n",
            "https://www.newegg.com/2-in-1-Laptops/Category/ID-259\n",
            "https://www.costco.com/computers.html\n",
            "https://www.amazon.com/computer-pc-hardware-accessories-add-ons/b?ie=UTF8&node=541966\n",
            "https://www.amazon.com/computer/s?k=computer\n",
            "https://www.walmart.com/cp/computers/3951\n",
            "https://www.britannica.com/technology/computer\n",
            "https://www.computerhope.com/jargon/c/computer.htm\n",
            "https://www.explainthatstuff.com/howcomputerswork.html\n",
            "https://www.staples.com/Laptops-Computers/cat_SC3\n",
            "https://edu.gcfglobal.org/en/computerbasics/what-is-a-computer/1/\n",
            "https://www.dell.com/\n",
            "https://www.computer.org/csdl/magazine/co\n",
            "https://www.cnn.com/2020/03/11/tech/ibm-artificial-intelligence-language/index.html\n",
            "https://thenextweb.com/offers/2020/03/11/before-you-buy-a-whole-new-computer-try-this-software-that-makes-your-machine-run-smoothly-again/\n",
            "https://www.bleepingcomputer.com/news/microsoft/microsoft-unveils-new-windows-10-automatic-driver-update-plan/\n",
            "https://www.internetessentials.com/low-cost-computer\n",
            "https://slickdeals.net/computer-deals/\n",
            "https://www.microcenter.com/\n",
            "https://ieeexplore.ieee.org/xpl/RecentIssue.jsp?punumber=2\n",
            "https://www.dictionary.com/browse/computer\n",
            "https://en.wiktionary.org/wiki/computer\n",
            "https://www.microsoft.com/en-us/windows/computers\n",
            "https://www.microsoft.com/en-us/store/b/pc\n",
            "https://dictionary.cambridge.org/us/dictionary/english/computer\n",
            "https://www.merriam-webster.com/dictionary/computer\n",
            "https://www.computerworld.com/\n",
            "https://www.youtube.com/watch?v=tPkHxfL0yAQ\n",
            "https://computer.howstuffworks.com/\n",
            "https://www.csail.mit.edu/\n",
            "https://code.org/\n",
            "https://www.consumerreports.org/cro/computers.htm\n",
            "https://www.woot.com/category/computers\n",
            "https://www.computereconomics.com/\n",
            "https://www.raspberrypi.org/\n",
            "https://www.thecomputermagic.com/\n",
            "https://cs.illinois.edu/\n",
            "https://www.onetonline.org/link/summary/43-9011.00\n",
            "https://thenextweb.com/security/2020/03/11/hackers-are-using-coronavirus-maps-to-infect-your-computer/\n",
            "https://www.dropbox.com/android\n",
            "https://www.csd.cs.cmu.edu/\n",
            "https://cs.stanford.edu/\n",
            "https://academic.oup.com/comjnl\n",
            "https://computerhistory.org/\n",
            "https://www.ccianet.org/\n",
            "https://www.apple.com/mac/\n",
            "https://www.khanacademy.org/computing/computer-science\n",
            "https://csunplugged.org/\n",
            "https://www.usnews.com/best-graduate-schools/top-engineering-schools/computer-engineering-rankings\n",
            "https://www.pcmag.com/\n",
            "https://www.theguardian.com/science/2020/feb/27/why-your-brain-is-not-a-computer-neuroscience-neural-networks-consciousness\n",
            "https://www.bls.gov/ooh/architecture-and-engineering/computer-hardware-engineers.htm\n",
            "https://www.journals.elsevier.com/computer-communications\n",
            "https://csrc.nist.gov/\n",
            "https://www.samsung.com/us/computing/\n",
            "https://arxiv.org/list/cs.CV/recent\n",
            "https://blogs.scientificamerican.com/observations/are-we-ready-for-quantum-computers/\n",
            "https://www.cs.cornell.edu/\n",
            "https://www.cs.washington.edu/\n",
            "https://www.edx.org/course/subject/computer-science\n",
            "http://szeliski.org/Book/\n",
            "https://www.bhphotovideo.com/c/browse/Computers-Solutions/ci/9581/N/4294542559\n",
            "https://www.webopedia.com/TERM/C/computer.html\n",
            "https://www.broadcom.com/\n",
            "https://techcrunch.com/2020/03/13/glisten-uses-computer-vision-to-break-down-fashion-photos-to-their-styles-and-parts/\n",
            "https://www.theatlantic.com/technology/archive/2017/03/aristotle-computer/518697/\n",
            "https://q13fox.com/2020/03/13/bellevue-police-warn-of-fake-coronavirus-map-that-will-infect-your-computer/\n",
            "https://community.canvaslms.com/docs/DOC-10721-what-are-the-basic-computer-specifications-for-canvas\n",
            "https://lifehacker.com/these-bogus-coronavirus-trackers-could-infect-your-comp-1842293731\n",
            "https://www.ft.com/content/83bfbfd3-0cd6-4f3a-9d98-4996f9295984\n",
            "https://obamawhitehouse.archives.gov/blog/2016/01/30/computer-science-all\n",
            "https://electrek.co/2020/03/12/tesla-lawsuite-lack-of-self-driving-computer-retrofit/\n",
            "https://csedweek.org/\n",
            "https://www.thecrimson.com/article/2020/3/13/lapuerta-harvard-students-computer-science/\n",
            "https://www.businessinsider.com/coronavirus-pandemic-2-computer-game-second-life-amid-outbreak-2020-3\n",
            "https://www.udacity.com/course/computer-vision-nanodegree--nd891\n",
            "https://www.musicradar.com/computermusic\n",
            "https://onlinelibrary.wiley.com/journal/14678659\n",
            "https://hcil.umd.edu/\n",
            "https://www.dol.gov/sites/dolgov/files/WHD/legacy/files/fs17e_computer.pdf\n",
            "https://appleinsider.com/articles/20/03/13/rare-functional-apple-1-computer-sold-at-auction-for-458711\n",
            "https://www8.hp.com/us/en/home.html\n",
            "https://www.livescience.com/20718-computer-history.html\n",
            "https://www.lg.com/us/computers\n",
            "https://cs.berkeley.edu/\n",
            "https://computershowcase.umich.edu/catalog.php\n",
            "https://www.cs.princeton.edu/\n",
            "https://www.sciencedirect.com/journal/computer-physics-communications\n"
          ],
          "name": "stdout"
        }
      ]
    },
    {
      "cell_type": "markdown",
      "metadata": {
        "id": "IlA6SjKyGVEu",
        "colab_type": "text"
      },
      "source": [
        "**Google Scholar search**"
      ]
    },
    {
      "cell_type": "code",
      "metadata": {
        "id": "D5nWoFVH7xEk",
        "colab_type": "code",
        "outputId": "17049e11-9331-4b08-c276-33077f9e8e1c",
        "colab": {
          "base_uri": "https://localhost:8080/",
          "height": 530
        }
      },
      "source": [
        "import requests\n",
        "from bs4 import BeautifulSoup\n",
        "\n",
        "query = \"computer+vision\"\n",
        "url = 'https://scholar.google.com/scholar?hl=en&as_sdt=0%2C44&q=' + query + '&btnG='\n",
        "\n",
        "content = requests.get(url).text\n",
        "print(content)\n",
        "page = BeautifulSoup(content, 'lxml')\n",
        "results = []\n",
        "for entry in page.find_all(class_ = \"gs_rt\"):\n",
        "  results.append(\n",
        "      {\"title\": entry.a.text, \n",
        "       \"url\": entry.a['href']}\n",
        "       )"
      ],
      "execution_count": 0,
      "outputs": [
        {
          "output_type": "stream",
          "text": [
            "<!DOCTYPE html PUBLIC \"-//W3C//DTD HTML 4.01 Transitional//EN\">\n",
            "<html>\n",
            "<head><meta http-equiv=\"content-type\" content=\"text/html; charset=utf-8\"><meta name=\"viewport\" content=\"initial-scale=1\"><title>https://scholar.google.com/scholar?hl=en&amp;as_sdt=0%2C44&amp;q=computer+vision&amp;btnG=</title></head>\n",
            "<body style=\"font-family: arial, sans-serif; background-color: #fff; color: #000; padding:20px; font-size:18px;\" onload=\"e=document.getElementById('captcha');if(e){e.focus();}\">\n",
            "<div style=\"max-width:400px;\">\n",
            "<hr noshade size=\"1\" style=\"color:#ccc; background-color:#ccc;\"><br>\n",
            "<form id=\"captcha-form\" action=\"index\" method=\"post\">\n",
            "<script src=\"https://www.google.com/recaptcha/api.js\" async defer></script>\n",
            "<script>var submitCallback = function(response) {document.getElementById('captcha-form').submit();};</script>\n",
            "<div id=\"recaptcha\" class=\"g-recaptcha\" data-sitekey=\"6LfwuyUTAAAAAOAmoS0fdqijC2PbbdH4kjq62Y1b\" data-callback=\"submitCallback\" data-s=\"Lg7VuvSbqqH3hAweEqV1dhlKA4X529wmP_1NX_RGn8xUhyHS6ZIf77j3d1n331m2lA2QEHP-nkFZT5bk0ZtrduH0UvIno32iDjsYt8EPADPoQibDZeJtEU44HqHj4xhA2c-Uhs47MAisNOjUQnFm9rfrpPWEuuIp0koSlr-9DHvqf8xd5maaRFiAALxm5usqHV8M10Zi1vmx5Rn3pN57rBSPIVxQLTgjGDvbRwE2g3o9T5JvmL0-MGU\"></div>\n",
            "<input type='hidden' name='q' value='EgQjy4-hGJOmsfMFIhkA8aeDS8uhQAfgd6Dj8gjOagYTKYpO4gZSMgFy'><input type=\"hidden\" name=\"continue\" value=\"https://scholar.google.com/scholar?hl=en&amp;as_sdt=0%2C44&amp;q=computer+vision&amp;btnG=\">\n",
            "</form>\n",
            "<hr noshade size=\"1\" style=\"color:#ccc; background-color:#ccc;\">\n",
            "\n",
            "<div style=\"font-size:13px;\">\n",
            "<b>About this page</b><br><br>\n",
            "\n",
            "Our systems have detected unusual traffic from your computer network.  This page checks to see if it&#39;s really you sending the requests, and not a robot.  <a href=\"#\" onclick=\"document.getElementById('infoDiv').style.display='block';\">Why did this happen?</a><br><br>\n",
            "\n",
            "<div id=\"infoDiv\" style=\"display:none; background-color:#eee; padding:10px; margin:0 0 15px 0; line-height:1.4em;\">\n",
            "This page appears when Google automatically detects requests coming from your computer network which appear to be in violation of the <a href=\"//www.google.com/policies/terms/\">Terms of Service</a>. The block will expire shortly after those requests stop.  In the meantime, solving the above CAPTCHA will let you continue to use our services.<br><br>This traffic may have been sent by malicious software, a browser plug-in, or a script that sends automated requests.  If you share your network connection, ask your administrator for help &mdash; a different computer using the same IP address may be responsible.  <a href=\"//support.google.com/websearch/answer/86640\">Learn more</a><br><br>Sometimes you may be asked to solve the CAPTCHA if you are using advanced terms that robots are known to use, or sending requests very quickly.\n",
            "</div>\n",
            "\n",
            "IP address: 35.203.143.161<br>Time: 2020-03-14T03:44:19Z<br>URL: https://scholar.google.com/scholar?hl=en&amp;as_sdt=0%2C44&amp;q=computer+vision&amp;btnG=<br>\n",
            "</div>\n",
            "</div>\n",
            "</body>\n",
            "</html>\n",
            "\n"
          ],
          "name": "stdout"
        }
      ]
    },
    {
      "cell_type": "code",
      "metadata": {
        "id": "QeJq9XPaXMzd",
        "colab_type": "code",
        "colab": {}
      },
      "source": [
        "import requests\n",
        "from bs4 import BeautifulSoup\n",
        "\n",
        "query = 'computer+vision'\n",
        "url = 'https://scholar.google.com/scholar?hl=en&as_sdt=0%2C44&q=' + query + '&btnG='\n",
        "\n",
        "content = requests.get(url).text\n",
        "page = BeautifulSoup(content, 'lxml')\n",
        "results = []\n",
        "for entry in page.find_all(\"h3\", attrs={\"class\": \"gs_rt\"}):\n",
        "    results.append({\"title\": entry.a.text, \"url\": entry.a['href']})"
      ],
      "execution_count": 0,
      "outputs": []
    },
    {
      "cell_type": "markdown",
      "metadata": {
        "id": "Dq_7VGmrsum4",
        "colab_type": "text"
      },
      "source": [
        "## **2. Domain-specific information extraction**\n",
        "\n",
        "For the legal case used in the data cleaning exercise: [01-05-1 Adams v Tanner.txt](https://raw.githubusercontent.com/unt-iialab/INFO5731_Spring2020/master/In_class_exercise/01-05-1%20%20Adams%20v%20Tanner.txt), use [legalNLP](https://lexpredict-lexnlp.readthedocs.io/en/latest/modules/extract/extract.html#nlp-based-extraction-methods) to extract the following inforation from the text (if the information is not exist, just print None):\n",
        "\n",
        "(1) acts, e.g., “section 1 of the Advancing Hope Act, 1986”\n",
        "\n",
        "(2) amounts, e.g., “ten pounds” or “5.8 megawatts”\n",
        "\n",
        "(3) citations, e.g., “10 U.S. 100” or “1998 S. Ct. 1”\n",
        "\n",
        "(4) companies, e.g., “Lexpredict LLC”\n",
        "\n",
        "(5) conditions, e.g., “subject to …” or “unless and until …”\n",
        "\n",
        "(6) constraints, e.g., “no more than”\n",
        "\n",
        "(7) copyright, e.g., “(C) Copyright 2000 Acme”\n",
        "\n",
        "(8) courts, e.g., “Supreme Court of New York”\n",
        "\n",
        "(9) CUSIP, e.g., “392690QT3”\n",
        "\n",
        "(10) dates, e.g., “June 1, 2017” or “2018-01-01”\n",
        "\n",
        "(11) definitions, e.g., “Term shall mean …”\n",
        "\n",
        "(12) distances, e.g., “fifteen miles”\n",
        "\n",
        "(13) durations, e.g., “ten years” or “thirty days”\n",
        "\n",
        "(14) geographic and geopolitical entities, e.g., “New York” or “Norway”\n",
        "\n",
        "(15) money and currency usages, e.g., “$5” or “10 Euro”\n",
        "\n",
        "(16) percents and rates, e.g., “10%” or “50 bps”\n",
        "\n",
        "(17) PII, e.g., “212-212-2121” or “999-999-9999”\n",
        "\n",
        "(18) ratios, e.g.,” 3:1” or “four to three”\n",
        "\n",
        "(19) regulations, e.g., “32 CFR 170”\n",
        "\n",
        "(20) trademarks, e.g., “MyApp (TM)”\n",
        "\n",
        "(21) URLs, e.g., “http://acme.com/”\n",
        "\n",
        "(22) addresses, e.g., “1999 Mount Read Blvd, Rochester, NY, USA, 14615”\n",
        "\n",
        "(23) persons, e.g., “John Doe"
      ]
    },
    {
      "cell_type": "markdown",
      "metadata": {
        "id": "Yi6zMx5ln4CC",
        "colab_type": "text"
      },
      "source": [
        "**download required packages**"
      ]
    },
    {
      "cell_type": "code",
      "metadata": {
        "id": "kDI3FAGQ1DRG",
        "colab_type": "code",
        "outputId": "df4920af-01af-4152-e591-9f1eb58be109",
        "colab": {
          "base_uri": "https://localhost:8080/",
          "height": 153
        }
      },
      "source": [
        "nltk.download('punkt')\n",
        "nltk.download('averaged_perceptron_tagger')\n",
        "nltk.download('wordnet')\n",
        "\n",
        "url = \"https://raw.githubusercontent.com/unt-iialab/INFO5731_Spring2020/master/In_class_exercise/01-05-1%20%20Adams%20v%20Tanner.txt\"\n",
        "resp = requests.get(url)\n",
        "text = resp.text"
      ],
      "execution_count": 17,
      "outputs": [
        {
          "output_type": "stream",
          "text": [
            "[nltk_data] Downloading package punkt to /root/nltk_data...\n",
            "[nltk_data]   Package punkt is already up-to-date!\n",
            "[nltk_data] Downloading package averaged_perceptron_tagger to\n",
            "[nltk_data]     /root/nltk_data...\n",
            "[nltk_data]   Package averaged_perceptron_tagger is already up-to-\n",
            "[nltk_data]       date!\n",
            "[nltk_data] Downloading package wordnet to /root/nltk_data...\n",
            "[nltk_data]   Package wordnet is already up-to-date!\n"
          ],
          "name": "stdout"
        }
      ]
    },
    {
      "cell_type": "markdown",
      "metadata": {
        "id": "rSr1vWOQf2Ic",
        "colab_type": "text"
      },
      "source": [
        "**Libraries**"
      ]
    },
    {
      "cell_type": "code",
      "metadata": {
        "id": "DA4L7ADJf08p",
        "colab_type": "code",
        "colab": {
          "base_uri": "https://localhost:8080/",
          "height": 615
        },
        "outputId": "f769ee93-ea3c-4f65-f3c6-83556f8bf070"
      },
      "source": [
        "import requests,os\n",
        "import pandas,urllib.request\n",
        "import nltk\n",
        "!pip install lexnlp\n",
        "import lexnlp.extract.en.entities.nltk_re"
      ],
      "execution_count": 18,
      "outputs": [
        {
          "output_type": "stream",
          "text": [
            "Requirement already satisfied: lexnlp in /usr/local/lib/python3.6/dist-packages (1.4.0)\n",
            "Requirement already satisfied: Unidecode==0.4.21 in /usr/local/lib/python3.6/dist-packages (from lexnlp) (0.4.21)\n",
            "Requirement already satisfied: reporters-db==1.0.12.1 in /usr/local/lib/python3.6/dist-packages (from lexnlp) (1.0.12.1)\n",
            "Requirement already satisfied: scipy==1.0.0 in /usr/local/lib/python3.6/dist-packages (from lexnlp) (1.0.0)\n",
            "Requirement already satisfied: dateparser==0.7.0 in /usr/local/lib/python3.6/dist-packages (from lexnlp) (0.7.0)\n",
            "Requirement already satisfied: datefinder-lexpredict==0.6.2 in /usr/local/lib/python3.6/dist-packages (from lexnlp) (0.6.2)\n",
            "Requirement already satisfied: num2words==0.5.7 in /usr/local/lib/python3.6/dist-packages (from lexnlp) (0.5.7)\n",
            "Requirement already satisfied: gensim==3.4.0 in /usr/local/lib/python3.6/dist-packages (from lexnlp) (3.4.0)\n",
            "Requirement already satisfied: pycountry==18.5.26 in /usr/local/lib/python3.6/dist-packages (from lexnlp) (18.5.26)\n",
            "Requirement already satisfied: regex==2017.9.23 in /usr/local/lib/python3.6/dist-packages (from lexnlp) (2017.9.23)\n",
            "Requirement already satisfied: requests==2.22.0 in /usr/local/lib/python3.6/dist-packages (from lexnlp) (2.22.0)\n",
            "Requirement already satisfied: typing==3.6.2 in /usr/local/lib/python3.6/dist-packages (from lexnlp) (3.6.2)\n",
            "Requirement already satisfied: nltk==3.4.5 in /usr/local/lib/python3.6/dist-packages (from lexnlp) (3.4.5)\n",
            "Requirement already satisfied: scikit-learn==0.21.3 in /usr/local/lib/python3.6/dist-packages (from lexnlp) (0.21.3)\n",
            "Requirement already satisfied: us==1.0.0 in /usr/local/lib/python3.6/dist-packages (from lexnlp) (1.0.0)\n",
            "Requirement already satisfied: pandas==0.23.4 in /usr/local/lib/python3.6/dist-packages (from lexnlp) (0.23.4)\n",
            "Requirement already satisfied: six in /usr/local/lib/python3.6/dist-packages (from reporters-db==1.0.12.1->lexnlp) (1.12.0)\n",
            "Requirement already satisfied: numpy>=1.8.2 in /usr/local/lib/python3.6/dist-packages (from scipy==1.0.0->lexnlp) (1.17.5)\n",
            "Requirement already satisfied: python-dateutil in /usr/local/lib/python3.6/dist-packages (from dateparser==0.7.0->lexnlp) (2.6.1)\n",
            "Requirement already satisfied: tzlocal in /usr/local/lib/python3.6/dist-packages (from dateparser==0.7.0->lexnlp) (1.5.1)\n",
            "Requirement already satisfied: pytz in /usr/local/lib/python3.6/dist-packages (from dateparser==0.7.0->lexnlp) (2018.9)\n",
            "Requirement already satisfied: smart-open>=1.2.1 in /usr/local/lib/python3.6/dist-packages (from gensim==3.4.0->lexnlp) (1.9.0)\n",
            "Requirement already satisfied: chardet<3.1.0,>=3.0.2 in /usr/local/lib/python3.6/dist-packages (from requests==2.22.0->lexnlp) (3.0.4)\n",
            "Requirement already satisfied: certifi>=2017.4.17 in /usr/local/lib/python3.6/dist-packages (from requests==2.22.0->lexnlp) (2019.11.28)\n",
            "Requirement already satisfied: idna<2.9,>=2.5 in /usr/local/lib/python3.6/dist-packages (from requests==2.22.0->lexnlp) (2.8)\n",
            "Requirement already satisfied: urllib3!=1.25.0,!=1.25.1,<1.26,>=1.21.1 in /usr/local/lib/python3.6/dist-packages (from requests==2.22.0->lexnlp) (1.24.3)\n",
            "Requirement already satisfied: joblib>=0.11 in /usr/local/lib/python3.6/dist-packages (from scikit-learn==0.21.3->lexnlp) (0.14.1)\n",
            "Requirement already satisfied: jellyfish==0.5.6 in /usr/local/lib/python3.6/dist-packages (from us==1.0.0->lexnlp) (0.5.6)\n",
            "Requirement already satisfied: boto>=2.32 in /usr/local/lib/python3.6/dist-packages (from smart-open>=1.2.1->gensim==3.4.0->lexnlp) (2.49.0)\n",
            "Requirement already satisfied: boto3 in /usr/local/lib/python3.6/dist-packages (from smart-open>=1.2.1->gensim==3.4.0->lexnlp) (1.11.15)\n",
            "Requirement already satisfied: jmespath<1.0.0,>=0.7.1 in /usr/local/lib/python3.6/dist-packages (from boto3->smart-open>=1.2.1->gensim==3.4.0->lexnlp) (0.9.4)\n",
            "Requirement already satisfied: s3transfer<0.4.0,>=0.3.0 in /usr/local/lib/python3.6/dist-packages (from boto3->smart-open>=1.2.1->gensim==3.4.0->lexnlp) (0.3.3)\n",
            "Requirement already satisfied: botocore<1.15.0,>=1.14.15 in /usr/local/lib/python3.6/dist-packages (from boto3->smart-open>=1.2.1->gensim==3.4.0->lexnlp) (1.14.15)\n",
            "Requirement already satisfied: docutils<0.16,>=0.10 in /usr/local/lib/python3.6/dist-packages (from botocore<1.15.0,>=1.14.15->boto3->smart-open>=1.2.1->gensim==3.4.0->lexnlp) (0.15.2)\n"
          ],
          "name": "stdout"
        }
      ]
    },
    {
      "cell_type": "markdown",
      "metadata": {
        "id": "rOwH8v1Qn_sd",
        "colab_type": "text"
      },
      "source": [
        "**ACTS**"
      ]
    },
    {
      "cell_type": "code",
      "metadata": {
        "id": "ClXVMlTkynyS",
        "colab_type": "code",
        "outputId": "43258a53-91b0-470a-89e6-b15f2ba6b230",
        "colab": {
          "base_uri": "https://localhost:8080/",
          "height": 51
        }
      },
      "source": [
        "import lexnlp.extract.en.acts\n",
        "print(type(text))\n",
        "print(lexnlp.extract.en.acts.get_act_list(text))"
      ],
      "execution_count": 19,
      "outputs": [
        {
          "output_type": "stream",
          "text": [
            "<class 'str'>\n",
            "[]\n"
          ],
          "name": "stdout"
        }
      ]
    },
    {
      "cell_type": "markdown",
      "metadata": {
        "id": "4Tqu1AUDoCDc",
        "colab_type": "text"
      },
      "source": [
        "**AMOUNTS**"
      ]
    },
    {
      "cell_type": "code",
      "metadata": {
        "id": "veXDcwTh0iht",
        "colab_type": "code",
        "outputId": "2e7f124b-23b5-4031-9c05-c06fb3bf0b6a",
        "colab": {
          "base_uri": "https://localhost:8080/",
          "height": 54
        }
      },
      "source": [
        "import lexnlp.extract.en.amounts\n",
        "x = list(lexnlp.extract.en.amounts.get_amounts(text))\n",
        "print(\"amounts = \", x)"
      ],
      "execution_count": 21,
      "outputs": [
        {
          "output_type": "stream",
          "text": [
            "amounts =  [5.0, 740.0, 1843.0, 2.0, 1.0, 4.0, 2.0, 1821.0, 5.0, 1.0, 1840.0, 3777, 80.0, 100.0, 30, 1839.0, 741.0, 22, 1840.0, 14000, 120, 1, 1840.0, 3, 4, 1, 1.0, 1840.0, 2.0, 1.0, 361.0, 1.0, 307.0, 6.0, 604.0, 1.0, 2.0, 418.0, 422.0, 7.0, 34.0, 41.0, 167.0, 742.0, 3.0, 112.0, 207.0, 3.0, 338.0, 424.0, 5.0, 26.0, 13.0, 235.0, 8.0, 693.0, 4.0, 1821.0, 167.0, 2.0, 2.0, 216.0, 3.0, 66.0, 4.0, 130.0, 29.0, 2.0, 241.0, 2.0, 332.0, 2.0, 422.0, 9.0, 112.0, 743.0, 9.0, 39.0, 14000, 1840.0, 744.0, 5.0, 182.0, 3.0, 368.0, 1.0, 397.0, 6.0, 604.0, 1, 1821.0, 167.0, 745.0, 4.0, 746.0, 4.0, 210.0, 46.0, 747.0, 5.0, 5.0, 740.0, 1843.0, 284.0, 2019.0, 9.0, 1.0, 55.0, 266.0, 271.0, 1876.0, 2.0, 47.0, 362.0, 376.0, 1872.0, 3.0, 45.0, 329.0, 334.0, 1871.0, 4.0, 31.0, 526.0, 527.0, 1858.0, 5.0, 21.0, 333.0, 335.0, 1852.0, 6.0, 8.0, 145.0, 147.0, 1857.0, 7.0, 65.0, 256.0, 258.0, 3, 1880.0, 8.0, 4.0, 913.0, 914.0, 1887.0, 9.0, 103.0, 464.0, 1936.0, 3.0, 1.0, 9.0, 39.0, 1828.0, 2.0, 2.0, 5.0, 182.0, 1837.0, 2.0, 3.0, 9.0, 108.0, 1812.0, 6, 1, 2.0]\n"
          ],
          "name": "stdout"
        }
      ]
    },
    {
      "cell_type": "markdown",
      "metadata": {
        "id": "6Nejt-0ToFUu",
        "colab_type": "text"
      },
      "source": [
        "**CITATIONS**"
      ]
    },
    {
      "cell_type": "code",
      "metadata": {
        "id": "uQrqjcmPiPxz",
        "colab_type": "code",
        "outputId": "c10c8945-1726-4783-e7c3-96ba551a64bd",
        "colab": {
          "base_uri": "https://localhost:8080/",
          "height": 54
        }
      },
      "source": [
        "import lexnlp.extract.en.citations\n",
        "from lexnlp.extract.en.citations import get_citations, get_citation_annotations\n",
        "x = list(lexnlp.extract.en.citations.get_citations(text))\n",
        "print(\"citations = \", x)"
      ],
      "execution_count": 23,
      "outputs": [
        {
          "output_type": "stream",
          "text": [
            "citations =  [(5, 'Ala.', 'Alabama Reports', 740, None, None, None), (5, 'Ala.', 'Alabama Reports', 740, '1843', None, None), (55, 'Ala.', 'Alabama Reports', 266, '271', None, None), (47, 'Ala.', 'Alabama Reports', 362, '376', None, None), (45, 'Ala.', 'Alabama Reports', 329, '334', None, None), (31, 'Ala.', 'Alabama Reports', 526, '527', None, None), (21, 'Ala.', 'Alabama Reports', 333, '335', None, None), (8, 'Cal.', 'California Reports', 145, '147', None, None), (65, 'Ala.', 'Alabama Reports', 256, '258', None, None), (4, 'S.W.', 'South Western Reporter', 913, '914', None, None), (103, 'A.L.R.', 'American Law Reports', 464, None, None, None), (9, 'Cow.', \"Cowen's Reports\", 39, None, None, None), (5, 'Port.', 'Alabama Reports, Porter', 182, None, None, None), (9, 'Johns.', \"Johnson's Reports\", 108, None, None, None)]\n"
          ],
          "name": "stdout"
        }
      ]
    },
    {
      "cell_type": "markdown",
      "metadata": {
        "id": "8Qnvj4E3oJTL",
        "colab_type": "text"
      },
      "source": [
        "**COMPANIES**"
      ]
    },
    {
      "cell_type": "code",
      "metadata": {
        "id": "43muwhM5id5W",
        "colab_type": "code",
        "outputId": "512c8b32-0b56-4d83-d5b9-0f314c2d9c55",
        "colab": {
          "base_uri": "https://localhost:8080/",
          "height": 34
        }
      },
      "source": [
        "import lexnlp.extract.en.entities.nltk_re\n",
        "x = list(lexnlp.extract.en.entities.nltk_re.get_companies(text))\n",
        "print(\"companies = \", x)"
      ],
      "execution_count": 24,
      "outputs": [
        {
          "output_type": "stream",
          "text": [
            "companies =  [Lehman, Durr Co, (18055, 18073)]\n"
          ],
          "name": "stdout"
        }
      ]
    },
    {
      "cell_type": "markdown",
      "metadata": {
        "id": "UCBxEUcJoNOI",
        "colab_type": "text"
      },
      "source": [
        "**CONDITIONS**"
      ]
    },
    {
      "cell_type": "code",
      "metadata": {
        "id": "EebaaZ7DjOfF",
        "colab_type": "code",
        "outputId": "1b8b1846-9b5a-4a4a-ed53-bcd5c74e9d41",
        "colab": {
          "base_uri": "https://localhost:8080/",
          "height": 54
        }
      },
      "source": [
        "import lexnlp.extract.en.conditions\n",
        "x = list(lexnlp.extract.en.conditions.get_conditions(text))\n",
        "print(\"conditions = \", x)"
      ],
      "execution_count": 25,
      "outputs": [
        {
          "output_type": "stream",
          "text": [
            "conditions =  [('until', '[2]\\r\\nCreditors’ Remedies\\r\\nLien and Priority\\r\\nUnder St.1821, prohibiting a levy on a crop', ''), ('until', 'on a growing crop, nor does such lien attach', ''), ('if', 'It was proved by the claimants, by the production of a written contract, that Harrison, on the twenty-second of May, 1840, in consideration that the claimants were involved, as indorsers for Burton & Harrison of Sumter county, and were then exposed to an execution, amounting to upwards of fourteen thousand dollars, bargained and sold to the claimants all his growing crop of cotton &c., consisting of one hundred and twenty acres, &c. Allen Harrison promised and obliged himself to give up his crop to the use of the claimants at any time to save them from suffering as his indorsers;', ''), ('when', 'The claimants came from Tennessee, (where they resided) about the first of September, 1840, bringing with them three or four white laborers, and took possession of the crop and slaves, and with the latter, and white laborers, gathered the cotton, prepared it for market, and', ''), ('if', 'The court charged the jury, that the plaintiff had no lien by virtue of his judgment, and execution on the growing crop; that Harrison had a right to convey it, without being in any manner restrained by them; that the writing adduced, was a sale of the crop, but', ''), ('when', 'it was not, and the lien of the fieri facias would have attached upon it,', ''), ('if', 'gathered, yet', ''), ('not subject to', 'the claimants obtained possession on the first of September, and controlled the gathering of the crop, then no lien attached, and it was', ''), ('until', 'Rep, 693;] and', ''), ('until', '167,] which declares it to be lawful to levy an execution on a planted crop,', ''), ('if', 'It is admitted that the contract between the defendant in execution, and the claimants, was in good faith,', ''), ('when', 'The defendant in execution might at any time have divested the interest which the contract vested in the claimants, by discharging their liability as his indorsers, or a judgment creditor might have satisfied the lien, and', ''), ('unless', 'We will then consider the writing under which the claimants assert a right, as a mortgage with a power to take possession any time during the year,', ''), ('if', 'Conceding the truth of the facts stated in the bill of exceptions, and we think it will not follow, that the possession of the claimants is a nullity, and that the case must be considered as', ''), ('if', 'The contract contains an express undertaking to give up the crop at any time the claimants might require it for their indemnity, and', ''), ('if', 'they took possession of it in the absence of the grantor, (though without his consent,)', ''), ('if', 'he subsequently acquiesced in it, the inference would be,', ''), ('subject to', 'Mr. Dane, in remarking upon this point, says, “The American editor of Bacon’s Abridgment, says, ‘Wheat growing in the ground is a chattel, and', ''), ('until', 'The first section of the act of 1821, “To prevent sheriffs and other officers from levying executions in certain cases, enacts, that “It shall not be lawful for any sheriff or other officer, to levy a writ of fieri facias or other execution on the planted crop of a debtor, or person against whom an execution may issue,', ''), ('until', 'Now here is an express inhibition to levy an execution on a crop while it remains on, or in the ground, and', ''), ('until', 'If so, the act cited, will only have the effect of keeping the right to levy it in abeyance', ''), ('if', 'The lien and the right to levy are intimately connected, and', ''), ('until', 'That it was competent for the legislature to have made it unlawful to levy an execution on particular property,', ''), ('until', 'If the object was merely to suspend the sale,', ''), ('as soon as', 'The idea that the lien attached upon the planted crop', ''), ('until', 'the execution was delivered to the sheriff, though the right to levy it was postponed', ''), ('if', 'They do not refer to the lien,', ''), ('until', 'they did they would postpone it', ''), ('until', 'the crop was gathered; but it is the levy they relate to and postpone', ''), ('until', '**4 The right to levy an execution on a planted crop, then, being expressly taken away by the statute, the lien which is connected with and consequent upon that right, never attaches', ''), ('if', 'The circuit judge may have mistaken the law in supposing that the contract was a sale, but', ''), ('when', 'There is no assumption of any material fact in the charge; but the possession of the claimant, the time', ''), ('if', 'acquired, the gathering of the crop, &c., are all referred to the determination of the jury; who are instructed,', ''), ('until', '**4 The statute which presents the question before the court is, that “it shall not be lawful for any sheriff or other officer to levy a writ of fieei facias or other execution, on the planted crop of a debtor, or person against whom an execution may issue,', ''), ('subject to', 'The policy of the State, as indicated by these statutes, is undeniably that all the property of a debtor, real and personal, to which he has a legal title, shall be', ''), ('until', 'The mischief which the statute designed to remedy was, the sacrifice which would be necessarily made by the sale of an immature crop: the statute enables the debtor to retain it', ''), ('if', '**5', ''), ('until', 'The sheriff is forbidden to levy on a “planted crop”', ''), ('if', 'Now,', ''), ('until', 'This, I feel a thorough conviction, was not the intention of the legislature; but that it was to secure him from loss, by prohibiting a levy and sale of the crop,', ''), ('when', 'it was gathered,', ''), ('subject to', 'Growing crops as', ''), ('subject to', '464\\r\\nGenerally, at common law, growing crops raised by annual planting, while still attached to the soil, are regarded as personal chattels,', ''), ('where', 'And', '')]\n"
          ],
          "name": "stdout"
        }
      ]
    },
    {
      "cell_type": "markdown",
      "metadata": {
        "id": "zb0CsVL8oPpm",
        "colab_type": "text"
      },
      "source": [
        "**CONSTRAINTS**"
      ]
    },
    {
      "cell_type": "code",
      "metadata": {
        "id": "yBSbFT7rjf5T",
        "colab_type": "code",
        "outputId": "27550d08-1918-487e-a8a1-39f214ff3302",
        "colab": {
          "base_uri": "https://localhost:8080/",
          "height": 54
        }
      },
      "source": [
        "import lexnlp.extract.en.constraints\n",
        "x = list(lexnlp.extract.en.constraints.get_constraints(text))\n",
        "print(\"constraints = \", x)"
      ],
      "execution_count": 26,
      "outputs": [
        {
          "output_type": "stream",
          "text": [
            "constraints =  [('after', 'on a growing crop, nor does such lien attach until', ''), ('after', '', ' and that alias and pluries fieri facias’, issued regularly up to the time levy was made; that the cotton levied on was growed on the plantation of harrison, and cultivated by the hands in his service.'), ('first of', 'the claimants came from tennessee, (where they resided) about the', ''), ('first of', 'the court charged the jury, that the plaintiff had no lien by virtue of his judgment, and execution on the growing crop; that harrison had a right to convey it, without being in any manner restrained by them; that the writing adduced, was a sale of the crop, but if it was not, and the lien of the fieri facias would have attached upon it, when gathered, yet if the claimants obtained possession on the', ''), ('after', 'it merely inhibits the levy, but the lien attaches, and a levy and sale may be made', ''), ('more than', 'taking this to be clear *744 law, and it will be seen, that the defendant in execution at the time of the levy had nothing', ''), ('before', 'it has been frequently mooted whether, at common law, corn, &c.,', ''), ('before', '**4 the statute which presents the question', ''), ('after', 'now, if the view taken by the majority of the court, is correct, the right secured to the plaintiff in execution, of levying on the crop', ''), ('before', 'tried', ''), ('before', 'tried', ''), ('before', 'tried', ''), ('before', 'tried', ''), ('before', 'tried', ''), ('before', 'tried', '')]\n"
          ],
          "name": "stdout"
        }
      ]
    },
    {
      "cell_type": "markdown",
      "metadata": {
        "id": "eDUYv_OUoS80",
        "colab_type": "text"
      },
      "source": [
        "**COPYRIGHTS**"
      ]
    },
    {
      "cell_type": "code",
      "metadata": {
        "id": "t7lJ1GiHkJRF",
        "colab_type": "code",
        "outputId": "673f1c42-6185-4fa9-f022-2707125bc4e8",
        "colab": {
          "base_uri": "https://localhost:8080/",
          "height": 34
        }
      },
      "source": [
        "import lexnlp.extract.en.copyright\n",
        "x = list(lexnlp.extract.en.copyright.get_copyright(text))\n",
        "print(\"copyrights = \", x)"
      ],
      "execution_count": 27,
      "outputs": [
        {
          "output_type": "stream",
          "text": [
            "copyrights =  [('©', '2019', 'Thomson Reuters. No')]\n"
          ],
          "name": "stdout"
        }
      ]
    },
    {
      "cell_type": "markdown",
      "metadata": {
        "id": "Zc_XzwDOoW1B",
        "colab_type": "text"
      },
      "source": [
        "**COURTS**"
      ]
    },
    {
      "cell_type": "code",
      "metadata": {
        "id": "vD2MFgm7k6sN",
        "colab_type": "code",
        "outputId": "f0360c50-bd7f-4119-9adf-5ecedce8d161",
        "colab": {
          "base_uri": "https://localhost:8080/",
          "height": 34
        }
      },
      "source": [
        "import lexnlp.extract.en.courts\n",
        "court_config_list = []\n",
        "x = list(lexnlp.extract.en.courts.get_courts(text, court_config_list))\n",
        "print(\"courts = \", x)"
      ],
      "execution_count": 28,
      "outputs": [
        {
          "output_type": "stream",
          "text": [
            "courts =  []\n"
          ],
          "name": "stdout"
        }
      ]
    },
    {
      "cell_type": "markdown",
      "metadata": {
        "id": "gs-k39zxoZLp",
        "colab_type": "text"
      },
      "source": [
        "**CUSIP LIST**"
      ]
    },
    {
      "cell_type": "code",
      "metadata": {
        "id": "0QGo0Vx8k68Q",
        "colab_type": "code",
        "outputId": "a05d37f4-122f-4369-f2b7-dbf0814eac82",
        "colab": {
          "base_uri": "https://localhost:8080/",
          "height": 34
        }
      },
      "source": [
        "from lexnlp.extract.en.cusip import get_cusip_list\n",
        "x = list(lexnlp.extract.en.cusip.get_cusip(text))\n",
        "print(\"CUSIP = \", x)"
      ],
      "execution_count": 29,
      "outputs": [
        {
          "output_type": "stream",
          "text": [
            "CUSIP =  []\n"
          ],
          "name": "stdout"
        }
      ]
    },
    {
      "cell_type": "markdown",
      "metadata": {
        "id": "_Su4fAuCodY2",
        "colab_type": "text"
      },
      "source": [
        "**DATES**"
      ]
    },
    {
      "cell_type": "code",
      "metadata": {
        "id": "H8zHpMLTk7Gn",
        "colab_type": "code",
        "outputId": "c5c6d67d-f1d5-4a70-857c-683a988e8b70",
        "colab": {
          "base_uri": "https://localhost:8080/",
          "height": 88
        }
      },
      "source": [
        "import lexnlp.extract.en.dates\n",
        "x = list(lexnlp.extract.en.dates.get_dates(text))\n",
        "print(\"\\n\")\n",
        "print(\"dates = \", x)"
      ],
      "execution_count": 56,
      "outputs": [
        {
          "output_type": "stream",
          "text": [
            "\n",
            "\n",
            "dates =  [datetime.date(2020, 6, 1), datetime.date(1840, 11, 1), datetime.date(1839, 10, 1), datetime.date(1840, 5, 1), datetime.date(1840, 9, 1), datetime.date(1840, 5, 1), datetime.date(1840, 5, 1), datetime.date(2020, 12, 1), datetime.date(2020, 12, 1), datetime.date(2020, 1, 1), datetime.date(2020, 1, 1), datetime.date(2020, 1, 1), datetime.date(2020, 3, 21), datetime.date(2020, 6, 1), datetime.date(2020, 7, 1), datetime.date(2020, 11, 1), datetime.date(1887, 5, 1)]\n"
          ],
          "name": "stdout"
        }
      ]
    },
    {
      "cell_type": "markdown",
      "metadata": {
        "id": "yCZh524coheb",
        "colab_type": "text"
      },
      "source": [
        "**DEFINITIONS**"
      ]
    },
    {
      "cell_type": "code",
      "metadata": {
        "id": "TqtTm-y4k7QO",
        "colab_type": "code",
        "outputId": "aa772a52-d1e1-405e-ab78-9a17ddd86333",
        "colab": {
          "base_uri": "https://localhost:8080/",
          "height": 34
        }
      },
      "source": [
        "import lexnlp.extract.en.definitions\n",
        "x = list(lexnlp.extract.en.definitions.get_definitions(text))\n",
        "print(\"definitions = \", x)"
      ],
      "execution_count": 32,
      "outputs": [
        {
          "output_type": "stream",
          "text": [
            "definitions =  []\n"
          ],
          "name": "stdout"
        }
      ]
    },
    {
      "cell_type": "markdown",
      "metadata": {
        "id": "673cRdfuolvd",
        "colab_type": "text"
      },
      "source": [
        "**DISTANCES**"
      ]
    },
    {
      "cell_type": "code",
      "metadata": {
        "id": "MKu3jFD0k7ZM",
        "colab_type": "code",
        "outputId": "a98c29c8-af01-4310-f256-e23190704fea",
        "colab": {
          "base_uri": "https://localhost:8080/",
          "height": 34
        }
      },
      "source": [
        "import lexnlp.extract.en.distances\n",
        "x = list(lexnlp.extract.en.distances.get_distances(text))\n",
        "print(\"distances = \", x)"
      ],
      "execution_count": 33,
      "outputs": [
        {
          "output_type": "stream",
          "text": [
            "distances =  []\n"
          ],
          "name": "stdout"
        }
      ]
    },
    {
      "cell_type": "markdown",
      "metadata": {
        "id": "YAdzceKjooV9",
        "colab_type": "text"
      },
      "source": [
        "**DURATIONS**"
      ]
    },
    {
      "cell_type": "code",
      "metadata": {
        "id": "2yV0Y0zck7iS",
        "colab_type": "code",
        "outputId": "093e9699-7d44-4037-db63-28d49c2b5ab8",
        "colab": {
          "base_uri": "https://localhost:8080/",
          "height": 34
        }
      },
      "source": [
        "import lexnlp.extract.en.durations\n",
        "x = list(lexnlp.extract.en.durations.get_durations(text))\n",
        "print(\"durations = \", x)"
      ],
      "execution_count": 34,
      "outputs": [
        {
          "output_type": "stream",
          "text": [
            "durations =  [('second', 20.0, 0.00023148148148148146), ('year', 6.0, 2190.0)]\n"
          ],
          "name": "stdout"
        }
      ]
    },
    {
      "cell_type": "markdown",
      "metadata": {
        "id": "k6CkFuxgoq8t",
        "colab_type": "text"
      },
      "source": [
        "## **geographic and geopolitical entities**"
      ]
    },
    {
      "cell_type": "code",
      "metadata": {
        "id": "Plc32mhLk7rE",
        "colab_type": "code",
        "outputId": "8ba109f8-841f-4829-d149-1f2ec1931907",
        "colab": {
          "base_uri": "https://localhost:8080/",
          "height": 54
        }
      },
      "source": [
        "import lexnlp.extract.en.geoentities\n",
        "from lexnlp.extract.en.geoentities import get_geoentities, load_entities_dict_by_path\n",
        "path = os.getcwd()\n",
        "a = os.path.join(path, 'geoentities.csv')\n",
        "b = os.path.join(path, 'geoaliases.csv')\n",
        "loaded = load_entities_dict_by_path(a, b)\n",
        "x = list(get_geoentities(text, geo_config_list=loaded))\n",
        "print(\"geographic and geopolitical entities = \", x)"
      ],
      "execution_count": 47,
      "outputs": [
        {
          "output_type": "stream",
          "text": [
            "geographic and geopolitical entities =  [(('2226', 'Alabama', 999, [('Alabama', None, False, None, ' alabama '), ('Alabama', 'de', False, None, ' alabama '), ('Alabama', 'es', False, None, ' alabama '), (\"L'Alabama\", 'fr', False, None, \" l'alabama \"), ('US-AL', 'en', True, None, ' US-AL '), ('AL', 'en', True, None, ' AL ')]), ('Alabama', 'es', False, None, ' alabama ')), (('1977', 'Andorra', 0, [('Andorra', None, False, None, ' andorra '), ('Andorra', 'de', False, None, ' andorra '), ('Principado de Andorra', 'es', False, None, ' principado de andorra '), ('Andorra', 'es', False, None, ' andorra '), (\"l'Andorre\", 'fr', False, None, \" l'andorre \"), (\"la principauté d'Andorre\", 'fr', False, None, \" la principauté d'andorre \"), ('AD', 'en', True, None, ' AD '), ('AND', 'en', True, None, ' AND ')]), ('AND', 'en', True, None, ' AND ')), (('2267', 'Tennessee', 1040, [('Tennessee', None, False, None, ' tennessee '), ('Tennessee', 'de', False, None, ' tennessee '), ('Tennesse', 'es', False, None, ' tennesse '), ('Tennessee', 'fr', False, None, ' tennessee '), ('US-TN', 'en', True, None, ' US-TN '), ('TN', 'en', True, None, ' TN ')]), ('Tennessee', 'fr', False, None, ' tennessee ')), (('2212', 'United States', 0, [('United States', None, False, None, ' united states '), ('Vereinigte Staaten', 'de', False, None, ' vereinigte staaten '), ('Los Estatados Unidos', 'es', False, None, ' los estatados unidos '), ('les États-Unis', 'fr', False, None, ' les états-unis '), ('US', 'en', True, None, ' US '), ('USA', 'en', True, None, ' USA '), ('USA', 'en', True, None, ' USA '), (' United States of America', 'en', True, None, ' United States of America ')]), ('United States', None, False, None, ' united states '))]\n"
          ],
          "name": "stdout"
        }
      ]
    },
    {
      "cell_type": "markdown",
      "metadata": {
        "id": "v3ty6L94o0a-",
        "colab_type": "text"
      },
      "source": [
        "**MONEY**"
      ]
    },
    {
      "cell_type": "code",
      "metadata": {
        "id": "SfKFy232k7z8",
        "colab_type": "code",
        "outputId": "d73a48a0-3279-4a99-bd0d-17cba7e44199",
        "colab": {
          "base_uri": "https://localhost:8080/",
          "height": 34
        }
      },
      "source": [
        "import lexnlp.extract.en.money\n",
        "x = list(lexnlp.extract.en.money.get_money(text))\n",
        "print(\"money = \", x)"
      ],
      "execution_count": 49,
      "outputs": [
        {
          "output_type": "stream",
          "text": [
            "money =  [(100.0, 'USD'), (14000, 'USD'), (14000, 'USD')]\n"
          ],
          "name": "stdout"
        }
      ]
    },
    {
      "cell_type": "markdown",
      "metadata": {
        "id": "mbyN8mL6o2tg",
        "colab_type": "text"
      },
      "source": [
        "**PERCENT**"
      ]
    },
    {
      "cell_type": "code",
      "metadata": {
        "id": "ETakXSL_k79I",
        "colab_type": "code",
        "outputId": "b7495e12-57f5-4d61-a139-d2acc45ee6f1",
        "colab": {
          "base_uri": "https://localhost:8080/",
          "height": 34
        }
      },
      "source": [
        "import lexnlp.extract.en.percents\n",
        "x = list(lexnlp.extract.en.percents.get_percents(text))\n",
        "print(\"percents = \", x)"
      ],
      "execution_count": 50,
      "outputs": [
        {
          "output_type": "stream",
          "text": [
            "percents =  []\n"
          ],
          "name": "stdout"
        }
      ]
    },
    {
      "cell_type": "markdown",
      "metadata": {
        "id": "nwt4AioUo5Wd",
        "colab_type": "text"
      },
      "source": [
        "**PII**"
      ]
    },
    {
      "cell_type": "code",
      "metadata": {
        "id": "XxOpJiUik8F4",
        "colab_type": "code",
        "outputId": "90257e37-d794-456e-ffa8-a55fbe0ef3f0",
        "colab": {
          "base_uri": "https://localhost:8080/",
          "height": 34
        }
      },
      "source": [
        "import lexnlp.extract.en.pii\n",
        "x = list(lexnlp.extract.en.pii.get_pii(text))\n",
        "print(\"pii = \", x)"
      ],
      "execution_count": 51,
      "outputs": [
        {
          "output_type": "stream",
          "text": [
            "pii =  []\n"
          ],
          "name": "stdout"
        }
      ]
    },
    {
      "cell_type": "markdown",
      "metadata": {
        "id": "LH7nDemIo7W-",
        "colab_type": "text"
      },
      "source": [
        "**RATIOS**"
      ]
    },
    {
      "cell_type": "code",
      "metadata": {
        "id": "NpvwmucNlACj",
        "colab_type": "code",
        "outputId": "15e78f89-6fdd-43ea-9ef5-49e176e17558",
        "colab": {
          "base_uri": "https://localhost:8080/",
          "height": 34
        }
      },
      "source": [
        "import lexnlp.extract.en.ratios\n",
        "x = list(lexnlp.extract.en.ratios.get_ratios(text))\n",
        "print(\"ratios = \", x)"
      ],
      "execution_count": 52,
      "outputs": [
        {
          "output_type": "stream",
          "text": [
            "ratios =  []\n"
          ],
          "name": "stdout"
        }
      ]
    },
    {
      "cell_type": "markdown",
      "metadata": {
        "id": "bp64Yx7To9e7",
        "colab_type": "text"
      },
      "source": [
        "**REGULATIONS**"
      ]
    },
    {
      "cell_type": "code",
      "metadata": {
        "id": "GEa53PGBlARL",
        "colab_type": "code",
        "outputId": "2837c2d6-db03-4775-b128-802a079d2b10",
        "colab": {
          "base_uri": "https://localhost:8080/",
          "height": 34
        }
      },
      "source": [
        "import lexnlp.extract.en.regulations\n",
        "x = list(lexnlp.extract.en.regulations.get_regulations(text))\n",
        "print(\"regulations = \", x)"
      ],
      "execution_count": 53,
      "outputs": [
        {
          "output_type": "stream",
          "text": [
            "regulations =  []\n"
          ],
          "name": "stdout"
        }
      ]
    },
    {
      "cell_type": "markdown",
      "metadata": {
        "id": "_geTIhVSo_ro",
        "colab_type": "text"
      },
      "source": [
        "**TRADEMARKS**"
      ]
    },
    {
      "cell_type": "code",
      "metadata": {
        "id": "xKDP2A_zMSl9",
        "colab_type": "code",
        "outputId": "b9461193-1e9a-485e-c34f-d5dedd0aa15d",
        "colab": {
          "base_uri": "https://localhost:8080/",
          "height": 34
        }
      },
      "source": [
        "import lexnlp.extract.en.trademarks\n",
        "x = list(lexnlp.extract.en.trademarks.get_trademarks(text))\n",
        "print(\"trademarks = \", x)"
      ],
      "execution_count": 54,
      "outputs": [
        {
          "output_type": "stream",
          "text": [
            "trademarks =  []\n"
          ],
          "name": "stdout"
        }
      ]
    },
    {
      "cell_type": "markdown",
      "metadata": {
        "id": "9K9F9uV6pB3U",
        "colab_type": "text"
      },
      "source": [
        "**URLs**"
      ]
    },
    {
      "cell_type": "code",
      "metadata": {
        "id": "E-xWSCXNMTQQ",
        "colab_type": "code",
        "outputId": "b78b87b3-bb40-4c3a-c629-14e104b10910",
        "colab": {
          "base_uri": "https://localhost:8080/",
          "height": 34
        }
      },
      "source": [
        "import lexnlp.extract.en.urls\n",
        "x = list(lexnlp.extract.en.urls.get_urls(text))\n",
        "print(\"urls = \", x)"
      ],
      "execution_count": 55,
      "outputs": [
        {
          "output_type": "stream",
          "text": [
            "urls =  []\n"
          ],
          "name": "stdout"
        }
      ]
    }
  ]
}