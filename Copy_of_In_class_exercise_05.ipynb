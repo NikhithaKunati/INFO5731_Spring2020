{
  "nbformat": 4,
  "nbformat_minor": 0,
  "metadata": {
    "colab": {
      "name": "Copy of In_class_exercise_05.ipynb",
      "provenance": [],
      "collapsed_sections": [],
      "include_colab_link": true
    },
    "kernelspec": {
      "name": "python3",
      "display_name": "Python 3"
    }
  },
  "cells": [
    {
      "cell_type": "markdown",
      "metadata": {
        "id": "view-in-github",
        "colab_type": "text"
      },
      "source": [
        "<a href=\"https://colab.research.google.com/github/NikhithaKunati/INFO5731_Spring2020/blob/master/Copy_of_In_class_exercise_05.ipynb\" target=\"_parent\"><img src=\"https://colab.research.google.com/assets/colab-badge.svg\" alt=\"Open In Colab\"/></a>"
      ]
    },
    {
      "cell_type": "markdown",
      "metadata": {
        "id": "z7TahL04sVvR",
        "colab_type": "text"
      },
      "source": [
        "# **The fifth in-class-exercise**"
      ]
    },
    {
      "cell_type": "markdown",
      "metadata": {
        "id": "ejyZITr8sjnh",
        "colab_type": "text"
      },
      "source": [
        "## **1. Rule-based information extraction**\n",
        "\n",
        "Use any keywords related to data science, natural language processing, machine learning to search from google scholar, get the **titles** of 100 articles (either by web scraping or manually) about this topic, define a set of patterns to extract the research questions/problems, methods/algorithms/models, datasets, applications, or any other important information about this topic. "
      ]
    },
    {
      "cell_type": "markdown",
      "metadata": {
        "id": "zmkWvgFHGP_3",
        "colab_type": "text"
      },
      "source": [
        "**Google Search**"
      ]
    },
    {
      "cell_type": "code",
      "metadata": {
        "id": "XvR_O9D8sOUY",
        "colab_type": "code",
        "outputId": "59c75b82-f33e-444a-9550-ec3b17bae03e",
        "colab": {
          "base_uri": "https://localhost:8080/",
          "height": 1000
        }
      },
      "source": [
        "# Write your code here\n",
        "!pip install beautifulsoup4\n",
        "!pip install google\n",
        "try:\n",
        "  from googlesearch import search\n",
        "except ImportError:\n",
        "  print(\"No module named 'google' found\") \n",
        "query = \"computer\"  \n",
        "for j in search(query, tld=\"co.in\", num=100, stop=100): \n",
        "    print(j)"
      ],
      "execution_count": 0,
      "outputs": [
        {
          "output_type": "stream",
          "text": [
            "Requirement already satisfied: beautifulsoup4 in /usr/local/lib/python3.6/dist-packages (4.6.3)\n",
            "Requirement already satisfied: google in /usr/local/lib/python3.6/dist-packages (2.0.3)\n",
            "Requirement already satisfied: beautifulsoup4 in /usr/local/lib/python3.6/dist-packages (from google) (4.6.3)\n",
            "https://www.bestbuy.com/site/electronics/computers-pcs/abcat0500000.c?id=abcat0500000\n",
            "https://www.bestbuy.com/site/computers-pcs/computer-accessories/abcat0515000.c?id=abcat0515000\n",
            "https://www.bestbuy.com/site/computers-pcs/computer-cards-components/abcat0507000.c?id=abcat0507000\n",
            "https://www.bestbuy.com/site/computers-pcs/e-reader-devices/pcmcat193100050014.c?id=pcmcat193100050014\n",
            "https://en.wikipedia.org/wiki/Computer\n",
            "https://en.wikipedia.org/wiki/Personal_computer\n",
            "https://en.wikipedia.org/wiki/Computer_hardware\n",
            "https://en.wikipedia.org/wiki/History_of_personal_computers\n",
            "https://en.wikipedia.org/wiki/Computer_program\n",
            "https://www.newegg.com/Computer-Systems/Store/ID-3\n",
            "https://www.newegg.com/Desktop-Computers/Category/ID-228\n",
            "https://www.newegg.com/Laptops-Notebooks/Category/ID-223\n",
            "https://www.newegg.com/Monitors/Category/ID-19\n",
            "https://www.newegg.com/2-in-1-Laptops/Category/ID-259\n",
            "https://www.costco.com/computers.html\n",
            "https://www.amazon.com/computer-pc-hardware-accessories-add-ons/b?ie=UTF8&node=541966\n",
            "https://www.amazon.com/computer/s?k=computer\n",
            "https://www.walmart.com/cp/computers/3951\n",
            "https://www.britannica.com/technology/computer\n",
            "https://www.computerhope.com/jargon/c/computer.htm\n",
            "https://www.explainthatstuff.com/howcomputerswork.html\n",
            "https://www.staples.com/Laptops-Computers/cat_SC3\n",
            "https://edu.gcfglobal.org/en/computerbasics/what-is-a-computer/1/\n",
            "https://www.dell.com/\n",
            "https://www.computer.org/csdl/magazine/co\n",
            "https://www.cnn.com/2020/03/11/tech/ibm-artificial-intelligence-language/index.html\n",
            "https://thenextweb.com/offers/2020/03/11/before-you-buy-a-whole-new-computer-try-this-software-that-makes-your-machine-run-smoothly-again/\n",
            "https://www.bleepingcomputer.com/news/microsoft/microsoft-unveils-new-windows-10-automatic-driver-update-plan/\n",
            "https://www.internetessentials.com/low-cost-computer\n",
            "https://slickdeals.net/computer-deals/\n",
            "https://www.microcenter.com/\n",
            "https://ieeexplore.ieee.org/xpl/RecentIssue.jsp?punumber=2\n",
            "https://www.dictionary.com/browse/computer\n",
            "https://en.wiktionary.org/wiki/computer\n",
            "https://www.microsoft.com/en-us/windows/computers\n",
            "https://www.microsoft.com/en-us/store/b/pc\n",
            "https://dictionary.cambridge.org/us/dictionary/english/computer\n",
            "https://www.merriam-webster.com/dictionary/computer\n",
            "https://www.computerworld.com/\n",
            "https://www.youtube.com/watch?v=tPkHxfL0yAQ\n",
            "https://computer.howstuffworks.com/\n",
            "https://www.csail.mit.edu/\n",
            "https://code.org/\n",
            "https://www.consumerreports.org/cro/computers.htm\n",
            "https://www.woot.com/category/computers\n",
            "https://www.computereconomics.com/\n",
            "https://www.raspberrypi.org/\n",
            "https://www.thecomputermagic.com/\n",
            "https://cs.illinois.edu/\n",
            "https://www.onetonline.org/link/summary/43-9011.00\n",
            "https://thenextweb.com/security/2020/03/11/hackers-are-using-coronavirus-maps-to-infect-your-computer/\n",
            "https://www.dropbox.com/android\n",
            "https://www.csd.cs.cmu.edu/\n",
            "https://cs.stanford.edu/\n",
            "https://academic.oup.com/comjnl\n",
            "https://computerhistory.org/\n",
            "https://www.ccianet.org/\n",
            "https://www.apple.com/mac/\n",
            "https://www.khanacademy.org/computing/computer-science\n",
            "https://csunplugged.org/\n",
            "https://www.usnews.com/best-graduate-schools/top-engineering-schools/computer-engineering-rankings\n",
            "https://www.pcmag.com/\n",
            "https://www.theguardian.com/science/2020/feb/27/why-your-brain-is-not-a-computer-neuroscience-neural-networks-consciousness\n",
            "https://www.bls.gov/ooh/architecture-and-engineering/computer-hardware-engineers.htm\n",
            "https://www.journals.elsevier.com/computer-communications\n",
            "https://csrc.nist.gov/\n",
            "https://www.samsung.com/us/computing/\n",
            "https://arxiv.org/list/cs.CV/recent\n",
            "https://blogs.scientificamerican.com/observations/are-we-ready-for-quantum-computers/\n",
            "https://www.cs.cornell.edu/\n",
            "https://www.cs.washington.edu/\n",
            "https://www.edx.org/course/subject/computer-science\n",
            "http://szeliski.org/Book/\n",
            "https://www.bhphotovideo.com/c/browse/Computers-Solutions/ci/9581/N/4294542559\n",
            "https://www.webopedia.com/TERM/C/computer.html\n",
            "https://www.broadcom.com/\n",
            "https://techcrunch.com/2020/03/13/glisten-uses-computer-vision-to-break-down-fashion-photos-to-their-styles-and-parts/\n",
            "https://www.theatlantic.com/technology/archive/2017/03/aristotle-computer/518697/\n",
            "https://q13fox.com/2020/03/13/bellevue-police-warn-of-fake-coronavirus-map-that-will-infect-your-computer/\n",
            "https://community.canvaslms.com/docs/DOC-10721-what-are-the-basic-computer-specifications-for-canvas\n",
            "https://lifehacker.com/these-bogus-coronavirus-trackers-could-infect-your-comp-1842293731\n",
            "https://www.ft.com/content/83bfbfd3-0cd6-4f3a-9d98-4996f9295984\n",
            "https://obamawhitehouse.archives.gov/blog/2016/01/30/computer-science-all\n",
            "https://electrek.co/2020/03/12/tesla-lawsuite-lack-of-self-driving-computer-retrofit/\n",
            "https://csedweek.org/\n",
            "https://www.thecrimson.com/article/2020/3/13/lapuerta-harvard-students-computer-science/\n",
            "https://www.businessinsider.com/coronavirus-pandemic-2-computer-game-second-life-amid-outbreak-2020-3\n",
            "https://www.udacity.com/course/computer-vision-nanodegree--nd891\n",
            "https://www.musicradar.com/computermusic\n",
            "https://onlinelibrary.wiley.com/journal/14678659\n",
            "https://hcil.umd.edu/\n",
            "https://www.dol.gov/sites/dolgov/files/WHD/legacy/files/fs17e_computer.pdf\n",
            "https://appleinsider.com/articles/20/03/13/rare-functional-apple-1-computer-sold-at-auction-for-458711\n",
            "https://www8.hp.com/us/en/home.html\n",
            "https://www.livescience.com/20718-computer-history.html\n",
            "https://www.lg.com/us/computers\n",
            "https://cs.berkeley.edu/\n",
            "https://computershowcase.umich.edu/catalog.php\n",
            "https://www.cs.princeton.edu/\n",
            "https://www.sciencedirect.com/journal/computer-physics-communications\n"
          ],
          "name": "stdout"
        }
      ]
    },
    {
      "cell_type": "markdown",
      "metadata": {
        "id": "IlA6SjKyGVEu",
        "colab_type": "text"
      },
      "source": [
        "**Google Scholar search**"
      ]
    },
    {
      "cell_type": "code",
      "metadata": {
        "id": "D5nWoFVH7xEk",
        "colab_type": "code",
        "outputId": "17049e11-9331-4b08-c276-33077f9e8e1c",
        "colab": {
          "base_uri": "https://localhost:8080/",
          "height": 530
        }
      },
      "source": [
        "import requests\n",
        "from bs4 import BeautifulSoup\n",
        "\n",
        "query = \"computer+vision\"\n",
        "url = 'https://scholar.google.com/scholar?hl=en&as_sdt=0%2C44&q=' + query + '&btnG='\n",
        "\n",
        "content = requests.get(url).text\n",
        "print(content)\n",
        "page = BeautifulSoup(content, 'lxml')\n",
        "results = []\n",
        "for entry in page.find_all(class_ = \"gs_rt\"):\n",
        "  results.append(\n",
        "      {\"title\": entry.a.text, \n",
        "       \"url\": entry.a['href']}\n",
        "       )"
      ],
      "execution_count": 0,
      "outputs": [
        {
          "output_type": "stream",
          "text": [
            "<!DOCTYPE html PUBLIC \"-//W3C//DTD HTML 4.01 Transitional//EN\">\n",
            "<html>\n",
            "<head><meta http-equiv=\"content-type\" content=\"text/html; charset=utf-8\"><meta name=\"viewport\" content=\"initial-scale=1\"><title>https://scholar.google.com/scholar?hl=en&amp;as_sdt=0%2C44&amp;q=computer+vision&amp;btnG=</title></head>\n",
            "<body style=\"font-family: arial, sans-serif; background-color: #fff; color: #000; padding:20px; font-size:18px;\" onload=\"e=document.getElementById('captcha');if(e){e.focus();}\">\n",
            "<div style=\"max-width:400px;\">\n",
            "<hr noshade size=\"1\" style=\"color:#ccc; background-color:#ccc;\"><br>\n",
            "<form id=\"captcha-form\" action=\"index\" method=\"post\">\n",
            "<script src=\"https://www.google.com/recaptcha/api.js\" async defer></script>\n",
            "<script>var submitCallback = function(response) {document.getElementById('captcha-form').submit();};</script>\n",
            "<div id=\"recaptcha\" class=\"g-recaptcha\" data-sitekey=\"6LfwuyUTAAAAAOAmoS0fdqijC2PbbdH4kjq62Y1b\" data-callback=\"submitCallback\" data-s=\"Lg7VuvSbqqH3hAweEqV1dhlKA4X529wmP_1NX_RGn8xUhyHS6ZIf77j3d1n331m2lA2QEHP-nkFZT5bk0ZtrduH0UvIno32iDjsYt8EPADPoQibDZeJtEU44HqHj4xhA2c-Uhs47MAisNOjUQnFm9rfrpPWEuuIp0koSlr-9DHvqf8xd5maaRFiAALxm5usqHV8M10Zi1vmx5Rn3pN57rBSPIVxQLTgjGDvbRwE2g3o9T5JvmL0-MGU\"></div>\n",
            "<input type='hidden' name='q' value='EgQjy4-hGJOmsfMFIhkA8aeDS8uhQAfgd6Dj8gjOagYTKYpO4gZSMgFy'><input type=\"hidden\" name=\"continue\" value=\"https://scholar.google.com/scholar?hl=en&amp;as_sdt=0%2C44&amp;q=computer+vision&amp;btnG=\">\n",
            "</form>\n",
            "<hr noshade size=\"1\" style=\"color:#ccc; background-color:#ccc;\">\n",
            "\n",
            "<div style=\"font-size:13px;\">\n",
            "<b>About this page</b><br><br>\n",
            "\n",
            "Our systems have detected unusual traffic from your computer network.  This page checks to see if it&#39;s really you sending the requests, and not a robot.  <a href=\"#\" onclick=\"document.getElementById('infoDiv').style.display='block';\">Why did this happen?</a><br><br>\n",
            "\n",
            "<div id=\"infoDiv\" style=\"display:none; background-color:#eee; padding:10px; margin:0 0 15px 0; line-height:1.4em;\">\n",
            "This page appears when Google automatically detects requests coming from your computer network which appear to be in violation of the <a href=\"//www.google.com/policies/terms/\">Terms of Service</a>. The block will expire shortly after those requests stop.  In the meantime, solving the above CAPTCHA will let you continue to use our services.<br><br>This traffic may have been sent by malicious software, a browser plug-in, or a script that sends automated requests.  If you share your network connection, ask your administrator for help &mdash; a different computer using the same IP address may be responsible.  <a href=\"//support.google.com/websearch/answer/86640\">Learn more</a><br><br>Sometimes you may be asked to solve the CAPTCHA if you are using advanced terms that robots are known to use, or sending requests very quickly.\n",
            "</div>\n",
            "\n",
            "IP address: 35.203.143.161<br>Time: 2020-03-14T03:44:19Z<br>URL: https://scholar.google.com/scholar?hl=en&amp;as_sdt=0%2C44&amp;q=computer+vision&amp;btnG=<br>\n",
            "</div>\n",
            "</div>\n",
            "</body>\n",
            "</html>\n",
            "\n"
          ],
          "name": "stdout"
        }
      ]
    },
    {
      "cell_type": "code",
      "metadata": {
        "id": "QeJq9XPaXMzd",
        "colab_type": "code",
        "colab": {}
      },
      "source": [
        "import requests\n",
        "from bs4 import BeautifulSoup\n",
        "\n",
        "query = 'computer+vision'\n",
        "url = 'https://scholar.google.com/scholar?hl=en&as_sdt=0%2C44&q=' + query + '&btnG='\n",
        "\n",
        "content = requests.get(url).text\n",
        "page = BeautifulSoup(content, 'lxml')\n",
        "results = []\n",
        "for entry in page.find_all(\"h3\", attrs={\"class\": \"gs_rt\"}):\n",
        "    results.append({\"title\": entry.a.text, \"url\": entry.a['href']})"
      ],
      "execution_count": 0,
      "outputs": []
    },
    {
      "cell_type": "markdown",
      "metadata": {
        "id": "Dq_7VGmrsum4",
        "colab_type": "text"
      },
      "source": [
        "## **2. Domain-specific information extraction**\n",
        "\n",
        "For the legal case used in the data cleaning exercise: [01-05-1 Adams v Tanner.txt](https://raw.githubusercontent.com/unt-iialab/INFO5731_Spring2020/master/In_class_exercise/01-05-1%20%20Adams%20v%20Tanner.txt), use [legalNLP](https://lexpredict-lexnlp.readthedocs.io/en/latest/modules/extract/extract.html#nlp-based-extraction-methods) to extract the following inforation from the text (if the information is not exist, just print None):\n",
        "\n",
        "(1) acts, e.g., “section 1 of the Advancing Hope Act, 1986”\n",
        "\n",
        "(2) amounts, e.g., “ten pounds” or “5.8 megawatts”\n",
        "\n",
        "(3) citations, e.g., “10 U.S. 100” or “1998 S. Ct. 1”\n",
        "\n",
        "(4) companies, e.g., “Lexpredict LLC”\n",
        "\n",
        "(5) conditions, e.g., “subject to …” or “unless and until …”\n",
        "\n",
        "(6) constraints, e.g., “no more than”\n",
        "\n",
        "(7) copyright, e.g., “(C) Copyright 2000 Acme”\n",
        "\n",
        "(8) courts, e.g., “Supreme Court of New York”\n",
        "\n",
        "(9) CUSIP, e.g., “392690QT3”\n",
        "\n",
        "(10) dates, e.g., “June 1, 2017” or “2018-01-01”\n",
        "\n",
        "(11) definitions, e.g., “Term shall mean …”\n",
        "\n",
        "(12) distances, e.g., “fifteen miles”\n",
        "\n",
        "(13) durations, e.g., “ten years” or “thirty days”\n",
        "\n",
        "(14) geographic and geopolitical entities, e.g., “New York” or “Norway”\n",
        "\n",
        "(15) money and currency usages, e.g., “$5” or “10 Euro”\n",
        "\n",
        "(16) percents and rates, e.g., “10%” or “50 bps”\n",
        "\n",
        "(17) PII, e.g., “212-212-2121” or “999-999-9999”\n",
        "\n",
        "(18) ratios, e.g.,” 3:1” or “four to three”\n",
        "\n",
        "(19) regulations, e.g., “32 CFR 170”\n",
        "\n",
        "(20) trademarks, e.g., “MyApp (TM)”\n",
        "\n",
        "(21) URLs, e.g., “http://acme.com/”\n",
        "\n",
        "(22) addresses, e.g., “1999 Mount Read Blvd, Rochester, NY, USA, 14615”\n",
        "\n",
        "(23) persons, e.g., “John Doe"
      ]
    },
    {
      "cell_type": "code",
      "metadata": {
        "id": "kDI3FAGQ1DRG",
        "colab_type": "code",
        "outputId": "4b56edd6-f4b0-411c-8941-c489bf548f62",
        "colab": {
          "base_uri": "https://localhost:8080/",
          "height": 1000
        }
      },
      "source": [
        "text = open('/content/text.txt','r',encoding='UTF-8',errors='ignore')\n",
        "print(text.read())"
      ],
      "execution_count": 0,
      "outputs": [
        {
          "output_type": "stream",
          "text": [
            "\n",
            "\n",
            "5 Ala. 740\n",
            "Supreme Court of Alabama.\n",
            "ADAMS\n",
            "v.\n",
            "TANNER AND HORTON.\n",
            "June Term, 1843.\n",
            "Synopsis\n",
            "WRIT of Error to the Circuit Court of Sumter.\n",
            "\n",
            "\n",
            "\n",
            "West Headnotes (2)\n",
            "\n",
            "\n",
            "[1]\n",
            "Chattel Mortgages\n",
            "Crops\n",
            "A growing crop has such an existence as to be the subject-matter of a mortgage or other contract which passes an interest to vest in possession, either immediately or at a future time.\n",
            "4 Cases that cite this headnote\n",
            "\n",
            "[2]\n",
            "Creditors Remedies\n",
            "Lien and Priority\n",
            "Under St.1821, prohibiting a levy on a crop until it has been gathered, no lien attaches in favor of a fi. fa. on a growing crop, nor does such lien attach until after the crop has been gathered.\n",
            "5 Cases that cite this headnote\n",
            "\n",
            "**1 This was a trial of the right of property under the statute. In November, 1840, an execution issued from the circuit court of Sumter, at the suit of the plaintiff in error, requiring the sheriff of that county, to make of the goods, &c., of Allen Harrison and others, the sum of thirty-seven hundred and seventy-seven 80-100 dollars, besides costs. This execution was levied on thirty bales of cotton, as the property of Allen Harrison, which was claimed, and a bond given to try the right. An issue was made up to try the question of the liability of the cotton to the plaintiffs execution, and submitted to a jury. On the trial, a bill of exceptions was sealed at the instance of the plaintiff. The plaintiff proved that he recovered his judgment in October, 1839; that an execution *741 was issued thereon on the 7th Nov. thereafter, and that alias and pluries fieri facias, issued regularly up to the time levy was made; that the cotton levied on was growed on the plantation of Harrison, and cultivated by the hands in his service. It was proved by the claimants, by the production of a written contract, that Harrison, on the twenty-second of May, 1840, in consideration that the claimants were involved, as indorsers for Burton & Harrison of Sumter county, and were then exposed to an execution, amounting to upwards of fourteen thousand dollars, bargained and sold to the claimants all his growing crop of cotton &c., consisting of one hundred and twenty acres, &c. Allen Harrison promised and obliged himself to give up his crop to the use of the claimants at any time to save them from suffering as his indorsers; if the crop matured and was gathered he undertook to deliver the cotton in Gainesville. The claimants came from Tennessee, (where they resided) about the first of September, 1840, bringing with them three or four white laborers, and took possession of the crop and slaves, and with the latter, and white laborers, gathered the cotton, prepared it for market, and when levied on, it was in a ware-house in Gainesville. The plaintiff then proved by Harrison, that the claimants took possession of the crop, while he was absent, and disposed of it without his consent. It was admitted, that the contract was made in good faith.\n",
            "The court charged the jury, that the plaintiff had no lien by virtue of his judgment, and execution on the growing crop; that Harrison had a right to convey it, without being in any manner restrained by them; that the writing adduced, was a sale of the crop, but if it was not, and the lien of the fieri facias would have attached upon it, when gathered, yet if the claimants obtained possession on the first of September, and controlled the gathering of the crop, then no lien attached, and it was not subject to the levy.\n",
            "Attorneys and Law Firms\n",
            "R. H. SMITH, for the plaintiff, in error, made the following points.--1. The crop of Harrison, must, in May, 1840, have been in an immature state, and it is insisted, was not the subject of a sale. 2. By the common law, a growing crop could be levied on and sold, [1 Salk. Rep. 361; 1 Bos. & P. Rep. 307; 6 Easts Rep. 604, note 1; 2 Johns. Rep. 418, 422; 7 Mass. Rep. 34,] and our statue, [[[Aik. Dig.  41, p. 167,] which forbids the levy of an *742 execution on a growing crop, is to receive a strict construction. It merely inhibits the levy, but the lien attaches, and a levy and sale may be made after the crop matures, and is gathered. 3. The contract does not purport to convey the growing crop, but is a mere executory agreement, requiring some act to be done by Harrison, in order to invest the claimants with the right of property. [Chit. on Con. 112, 207; 3 Johns. Rep. 338, 424; 5 Wend. Rep. 26; 13 Johns. Rep. 235; 8 Dowl. Rep, 693;] and until this act was done, the crop, no matter by who gathered, because liable to be seized for Harrisons debts. A court of chancery would not compel a specific performance of the contract at the claimants instance. 4. The charge of the court is also objectionable in deciding disputed facts.\n",
            "W. M. MURPHY, with whom was W. G. JONES, for the defendant--cited the act of 1821, [Aik. Dig. 167,] which declares it to be lawful to levy an execution on a planted crop, until it is gathered, and contended that no lien attached in favor of the plaintiff. This being the case, the defendant in execution was not restrained from making the contract which he did with the claimants.\n",
            "**2 The lien of an execution is destroyed by an injunction, because it takes away the right to levy it. In short, whenever the right to levy an execution is but temporarily suspended, or withdrawn, the lien is during that time lost. [[[[Whipple v. Foot, 2 Johns. Rep. 216; 3 Wash. C. C. Rep. 66; 4 How. Rep. 130.]\n",
            "It is admitted that the contract between the defendant in execution, and the claimants, was in good faith, if so, the severance and removal of the cotton gave the latter a good title against all creditors of the former.\n",
            "Opinion\n",
            "\n",
            "COLLIER, C. J.\n",
            "\n",
            "There can be no doubt that a growing crop has such an existence as to be the subject matter of a sale, mortgage, or other contract which possess an interest to vest in possession, either immediately or at some future time. This proposition has frequently been assumed as unquestionable; the point of inquiry generally being, whether under a statute of frauds, such as the 29 Chas. 2, it is a mere chattel, and transferrable by parol without writing. [Chitty on Con. 241-2, 332; Whipple v. Foot, 2 Johns. Rep. 422; Stewart v. Doughty, 9 Johns. Rep. 112; *743 Austin v. Sawyer, 9 Cow. Rep. 39. See also Ravesies v. Lee & Alston, at last term.] The contract set out in the bill of exceptions, we are inclined to think evidences rather a mortgage than an absolute sale. It recites that the claimants are involved as indorsers of a mercantile firm, of which the defendant was a partner; that an execution for upwards of fourteen thousand dollars against their estate, is in the sheriffs hands, and that a conveyance is made of the crop of cotton, corn and oats, which the grantor agrees to give up at any time to the use of the claimants, so as to prevent injury to them as indorsers. The defendant in execution might at any time have divested the interest which the contract vested in the claimants, by discharging their liability as his indorsers, or a judgment creditor might have satisfied the lien, and when the crop was gathered, have levied on, and sold it under a fieri facias.\n",
            "We will then consider the writing under which the claimants assert a right, as a mortgage with a power to take possession any time during the year, unless they should be relieved from their engagements as indorsers. It is not pretended that their liability has been satisfied, and it is admitted that the parties have acted with good faith, so that it is a dry question of law, whether the right of the plaintiff, or the claimants shall prevail. Assuming for the present that the execution of the plaintiffs did not operate a lien upon the planted crop previous to the contract of May, 1840, we will inquire whether the defendant in execution had such an interest as could be levied on and sold.\n",
            "The claimants had previous to the levy of the execution taken possession of the crop, prepared the cotton for market, and removed it to a ware-house. This possession, it is insisted, was a trespass, because it was acquired in the absence of the defendant in execution, and without his consent then given. Conceding the truth of the facts stated in the bill of exceptions, and we think it will not follow, that the possession of the claimants is a nullity, and that the case must be considered as if they had never interfered with the crop. The contract contains an express undertaking to give up the crop at any time the claimants might require it for their indemnity, and if they took possession of it in the absence of the grantor, (though without his consent,) if he subsequently acquiesced in it, the inference would be, if necessary, that their acts were approved by him. Taking this to be clear *744 law, and it will be seen, that the defendant in execution at the time of the levy had nothing more than a mere equitable right to redeem the cotton by paying the debts indorsed by the claimants. He had no possession coupled with this equity, but only a naked equity, which it has been held cannot be reached by an ordinary execution. [Perkins and Elliott v. Mayfield, 5 Porters Rep. 182.]\n",
            "**3 This brings us back to the question, whether the execution of the plaintiff was a lien on the growing crop, so as to defeat the mortgage to the claimants. It has been frequently mooted whether, at common law, corn, &c., before it is gathered, can be seized under a fieri facias. Mr. Dane, in remarking upon this point, says, The American editor of Bacons Abridgment, says, Wheat growing in the ground is a chattel, and subject to be taken in execution; and the sheriff may suffer it to grow till harvest, and then cut and sell it; or may perhaps sell it growing, and the purchaser will then be entitled to enter, for the purpose of cutting and carrying it away. [He cites Whipple v. Foot, ut supra, also Pooles case, Salk. 368; 1 Bos. & P. 397; 6 East, 604, n.] But Whipple v. Foot seems to be the only case that supports his position, that unripe wheat or corn may be taken in execution; and the same editor states that nothing can be taken in execution which cannot be sold. This position, says the learned commentator, is no doubt law. But it is unnecessary to consider how this matter stands at common law. The first section of the act of 1821, To prevent sheriffs and other officers from levying executions in certain cases, enacts, that It shall not be lawful for any sheriff or other officer, to levy a writ of fieri facias or other execution on the planted crop of a debtor, or person against whom an execution may issue, until the crop is gathered. [Aik. Dig. 167.] Now here is an express inhibition to levy an execution on a crop while it remains on, or in the ground, and until it is severed from the soil to which it owes its growth. In respect to property thus situated, will the lien of an execution attach eo instanti upon its being placed in the hands of an officer? If so, the act cited, will only have the effect of keeping the right to levy it in abeyance until the crop is gathered. The lien of an execution does, not only operate so as to prevent the debtor from disposing of the property on which it attaches, but gives to the creditor the right to have it sold to satisfy his *745 judgment. The lien and the right to levy are intimately connected, and if the latter be taken away, or suspended, the effect, at common law, is the destruction of the former. This principle is fully established by Mansony and Hurtell v. The President, &c. of the Bank of the United States, and its assignees, and the citations contained in the opinion of the court in that case, as also in my opinion in Wood v. Gary, et al., both decided at the last term. That it was competent for the legislature to have made it unlawful to levy an execution on particular property, until its condition was changed, and still to give it a continuing lien, cannot be doubted; but there is nothing in the act in question to indicate that such is its intention. If the object was merely to suspend the sale, until the crop was gathered, it would have been very easy to have said so in explicit terms, but declaring as the statute does, in totidem verbis, that the execution shall not be levied, the legislature must be supposed to have meant what they have expressed. The act was induced by the doubts which existed as to what was the common law, and was intended to remove those doubts by declaring what should be the law in future. It does not create a lien or authorize a levy in a case in which the law, as it then existed, was silent. The idea that the lien attached upon the planted crop as soon as the execution was delivered to the sheriff, though the right to levy it was postponed until a severance took place, is attempted to be deduced from the last words of the section cited, viz: until the crop is gathered. These words cannot, upon any just principles of construction be regarded so potent as to give to an execution a retrospective effect. They do not refer to the lien, if they did they would postpone it until the crop was gathered; but it is the levy they relate to and postpone until that event takes place.\n",
            "**4 The right to levy an execution on a planted crop, then, being expressly taken away by the statute, the lien which is connected with and consequent upon that right, never attaches until severance. This being the case, the right of the defendant in execution to make the contract which he did, is unquestionable, and the title of the claimants, coupled as it was with the possession, was paramount to any lien which the execution could exert.\n",
            "The circuit judge may have mistaken the law in supposing that the contract was a sale, but if he did, an error in that respect was very immaterial, for whether a sale or mortgage, as we have *746 seen, under the facts of the case, the defendant in execution has no interest that could be seised and sold under execution. There is no assumption of any material fact in the charge; but the possession of the claimant, the time when acquired, the gathering of the crop, &c., are all referred to the determination of the jury; who are instructed, if they find them according to the evidence adduced, that no lien ever attached in favor of the plaintiff. The bona fides of the contract was conceded, so that no charge was necessary on that point, and it could not with propriety enter into the inquiry of the jury.\n",
            "It results from what has been said, that the judgment of the circuit court is affirmed.\n",
            "\n",
            "DISSENTING OPINION.\n",
            "\n",
            "ORMOND, J.\n",
            "**4 The statute which presents the question before the court is, that it shall not be lawful for any sheriff or other officer to levy a writ of fieei facias or other execution, on the planted crop of a debtor, or person against whom an execution may issue, until the crop is gathered. [Clays Dig. 210,  46.]\n",
            "I shall not enter upon the enquiry, whether, at common law, an execution could be levied upon a growing crop, though I apprehend, it would not be difficult to maintain the affirmative of the proposition. It is sufficient for my purpose, that the statute supposes such to have been the law, as it doubtless was the practice.\n",
            "This act must be considered in connection with the other acts upon the same subject. The policy of the State, as indicated by these statutes, is undeniably that all the property of a debtor, real and personal, to which he has a legal title, shall be subject to sale by execution, and it appears to me that it would be difficult to assign a reason for the exemption of this species of property from the claims of judgment creditors, and for giving to the defendant in execution the right to dispose of it. It appears to me, with all deference, that the argument that because the sheriff was prohibited from levying on a planted crop, that therefore the execution had lost its lien, and the debtor had the right to sell it, is a non sequitur. The mischief which the statute designed to remedy was, the sacrifice which would be necessarily made by the sale of an immature crop: the statute enables the debtor to retain it until it matures, and by severing it from the soil to put it *747 in a condition to bring its value--the lien in the mean time continuing in the plaintiff in execution.\n",
            "**5 If further confirmation of the correctness of this view were necessary, it will be found, I think, in the language employed by the legislature. The sheriff is forbidden to levy on a planted crop until the crop is gathered. Now, if the view taken by the majority of the court, is correct, the right secured to the plaintiff in execution, of levying on the crop after it is gathered, may be frustrated, as it was in this case, by a sale by the defendant in execution, whilst the crop is in an immature state. The construction which has been put upon the statute, involves the singular anomaly, that the legislature, for the protection of the debtor, has forbidden the plaintiff in execution to sell the property of his debtor, because it is not in a condition to bring its value, and yet permits the debtor, voluntarily, by a sale, to submit to the same sacrifice, for his own benefit. It is, in effect, a gift to the defendant in execution, of the growing crop, provided he does not gather it himself, but disposes of it in its then condition. This, I feel a thorough conviction, was not the intention of the legislature; but that it was to secure him from loss, by prohibiting a levy and sale of the crop, until it was gathered, when the temporary suspension of the right to sell, ceased.\n",
            "All Citations\n",
            "5 Ala. 740, 1843 WL 284\n",
            "End of Document\n",
            " 2019 Thomson Reuters. No claim to original U.S. Government Works.\n",
            "Citing References (9)\n",
            "Treatment\n",
            "Title\n",
            "Date\n",
            "Type\n",
            "Depth\n",
            "Headnote(s)\n",
            "Cited by\n",
            "1.  Booker v. Joness Admx\n",
            "55 Ala. 266, 271 , Ala.\n",
            "Trover for Conversion of Cotton, with Counts in Case. APPEAL from the Circuit Court of Hale. Tried before the Hon. M. J. SAFFOLD.\n",
            "Dec Term 1876\n",
            "Case\n",
            "\n",
            "Cited by\n",
            "2.  Lehman, Durr & Co. v. Marshall\n",
            "47 Ala. 362, 376 , Ala.\n",
            "[TROVER FOR CONVERSION OF COTTON.] APPEAL from the City Court of Montgomery. Tried before Hon. JOHN D. CUNNINGHAM.\n",
            "Jan Term 1872\n",
            "Case\n",
            "\n",
            "Cited by\n",
            "3.  Bibb v. Janney\n",
            "45 Ala. 329, 334 , Ala.\n",
            "[GARNISHMENT; WAGES; WAIVER OF EXEMPTION.] APPEAL from City Court of Montgomery. Tried before Hon. JOHN D. CUNNINGHAM.\n",
            "Jan Term 1871\n",
            "Case\n",
            "\n",
            "Cited by\n",
            "4.  McKenzie v. Lampley\n",
            "31 Ala. 526, 527 , Ala.\n",
            "[TRIAL OF RIGHT OF PROPERTY IN COTTON.] APPEAL from the Circuit Court of Barbour. Tried before the Hon. S. D. HALE.\n",
            "Jan Term 1858\n",
            "Case\n",
            "\n",
            "Cited by\n",
            "5.  Evans v. Lamar\n",
            "21 Ala. 333, 335+ , Ala.\n",
            "ERROR to the Circuit Court of Autauga. Tried before the Hon. A. B. MOORE.\n",
            "Jun Term 1852\n",
            "Case\n",
            "\n",
            "Cited by\n",
            " 6.  Dewey v. Bowman\n",
            "8 Cal. 145, 147 , Cal.\n",
            "The judgment of the Court below, against Jacob S. Cohen, should be reversed, for the following reasons: Because the finding of the Court was, so far as Cohen was concerned,...\n",
            "Jul Term 1857\n",
            "Case\n",
            "\n",
            "Mentioned by\n",
            "7.  Rees v. Coats\n",
            "65 Ala. 256, 258 , Ala.\n",
            "Trover for Conversion of Three Bales of Cotton. APPEAL from the Circuit Court of Etowah. Tried before the Hon. WM. L. WHITLOCK.\n",
            "Nov Term 1880\n",
            "Case\n",
            "\n",
            "Mentioned by\n",
            "8.  Edwards v. Thompson\n",
            "4 S.W. 913, 914 , Tenn.\n",
            "Appeal from circuit court, Weakley county.\n",
            "May 1887\n",
            "Case\n",
            "\n",
            "\n",
            "9.  Growing crops as subject to levy and seizure under attachment or execution\n",
            "103 A.L.R. 464\n",
            "Generally, at common law, growing crops raised by annual planting, while still attached to the soil, are regarded as personal chattels, subject to levy and seizure under attachment...\n",
            "1936\n",
            "ALR\n",
            "\n",
            "\n",
            "Table of Authorities (3)\n",
            "Treatment\n",
            "Referenced Title\n",
            "Type\n",
            "Depth\n",
            "Quoted\n",
            "Page Number\n",
            "Mentioned\n",
            "1.  Austin v. Sawyer\n",
            "9 Cow. 39, N.Y.Sup., 1828\n",
            "Parol evidence is not admissible to contradict, or substantially vary, a written contract. And where A. quit-claimed land to W., on which a crop of wheat was growing, reserving the...\n",
            "Case\n",
            "2\n",
            "Cited\n",
            " 2.  Perkins v. Mayfield\n",
            "5 Port. 182, Ala., 1837\n",
            "On writ of error to the Circuit Court of Tuskaloosa.\n",
            "Case\n",
            "2+\n",
            "Mentioned\n",
            "3.  Stewart v. Doughty\n",
            "9 Johns. 108, N.Y.Sup., 1812\n",
            "A. let to B. a farm for six years, and A. agreed to render, yield and pay to A. the one half of all the wheat, rye, corn and other grain, raised on the farm in each year, in the...\n",
            "Case\n",
            "2\n",
            "Filings\n",
            "There are no Filings for this citation.\n",
            "Negative Treatment\n",
            "There are no Negative Treatment results for this citation.\n",
            "History\n",
            "There are no History results for this citation.\n",
            "\n",
            "\n"
          ],
          "name": "stdout"
        }
      ]
    },
    {
      "cell_type": "code",
      "metadata": {
        "id": "ClXVMlTkynyS",
        "colab_type": "code",
        "outputId": "39db53f5-b047-4a44-d5a6-8fa06e02c609",
        "colab": {
          "base_uri": "https://localhost:8080/",
          "height": 51
        }
      },
      "source": [
        "import lexnlp.extract.en.acts\n",
        "print(type(text))\n",
        "x = lexnlp.extract.en.acts.get_acts(text)\n",
        "print(\"acts = \", x)"
      ],
      "execution_count": 0,
      "outputs": [
        {
          "output_type": "stream",
          "text": [
            "<class '_io.TextIOWrapper'>\n",
            "acts =  <generator object get_acts at 0x7f4370b108e0>\n"
          ],
          "name": "stdout"
        }
      ]
    },
    {
      "cell_type": "code",
      "metadata": {
        "id": "veXDcwTh0iht",
        "colab_type": "code",
        "outputId": "6635675e-6f3c-4bbb-da58-568593de641a",
        "colab": {
          "base_uri": "https://localhost:8080/",
          "height": 34
        }
      },
      "source": [
        "import lexnlp.extract.en.amounts\n",
        "x = lexnlp.extract.en.amounts.get_amounts(text)\n",
        "print(\"amounts = \", x)"
      ],
      "execution_count": 0,
      "outputs": [
        {
          "output_type": "stream",
          "text": [
            "amounts =  <generator object get_amounts at 0x7f4376d7f468>\n"
          ],
          "name": "stdout"
        }
      ]
    },
    {
      "cell_type": "code",
      "metadata": {
        "id": "uQrqjcmPiPxz",
        "colab_type": "code",
        "outputId": "01f4495b-eda3-41a0-a54f-03e8c2f9aede",
        "colab": {
          "base_uri": "https://localhost:8080/",
          "height": 34
        }
      },
      "source": [
        "import lexnlp.extract.en.citations\n",
        "x = lexnlp.extract.en.citations.get_citations(text)\n",
        "print(\"citations = \", x)"
      ],
      "execution_count": 0,
      "outputs": [
        {
          "output_type": "stream",
          "text": [
            "citations =  <generator object get_citations at 0x7f4376fc8bf8>\n"
          ],
          "name": "stdout"
        }
      ]
    },
    {
      "cell_type": "code",
      "metadata": {
        "id": "43muwhM5id5W",
        "colab_type": "code",
        "outputId": "cff94a1a-8416-427b-bcbe-43303cc96948",
        "colab": {
          "base_uri": "https://localhost:8080/",
          "height": 34
        }
      },
      "source": [
        "import lexnlp.extract.en.entities.nltk_re\n",
        "x = lexnlp.extract.en.entities.nltk_re.get_companies(text)\n",
        "print(\"companies = \", x)"
      ],
      "execution_count": 0,
      "outputs": [
        {
          "output_type": "stream",
          "text": [
            "companies =  <generator object get_companies at 0x7f4376d33a98>\n"
          ],
          "name": "stdout"
        }
      ]
    },
    {
      "cell_type": "code",
      "metadata": {
        "id": "EebaaZ7DjOfF",
        "colab_type": "code",
        "outputId": "5da7f4d9-494c-4a57-80d6-b43b0931b281",
        "colab": {
          "base_uri": "https://localhost:8080/",
          "height": 34
        }
      },
      "source": [
        "import lexnlp.extract.en.conditions\n",
        "x = lexnlp.extract.en.conditions.get_conditions(text)\n",
        "print(\"conditions = \", x)"
      ],
      "execution_count": 0,
      "outputs": [
        {
          "output_type": "stream",
          "text": [
            "conditions =  <generator object get_conditions at 0x7f4376fc8ba0>\n"
          ],
          "name": "stdout"
        }
      ]
    },
    {
      "cell_type": "code",
      "metadata": {
        "id": "yBSbFT7rjf5T",
        "colab_type": "code",
        "outputId": "d394e29a-edd9-437a-cbff-8fc3370cd917",
        "colab": {
          "base_uri": "https://localhost:8080/",
          "height": 34
        }
      },
      "source": [
        "import lexnlp.extract.en.constraints\n",
        "x = lexnlp.extract.en.constraints.get_constraints(text)\n",
        "print(\"constraints = \", x)"
      ],
      "execution_count": 0,
      "outputs": [
        {
          "output_type": "stream",
          "text": [
            "constraints =  <generator object get_constraints at 0x7f4376d7ffc0>\n"
          ],
          "name": "stdout"
        }
      ]
    },
    {
      "cell_type": "code",
      "metadata": {
        "id": "t7lJ1GiHkJRF",
        "colab_type": "code",
        "outputId": "29fd7bf4-d8f0-45b2-b1d1-02d038c19e86",
        "colab": {
          "base_uri": "https://localhost:8080/",
          "height": 34
        }
      },
      "source": [
        "import lexnlp.extract.en.copyright\n",
        "x = lexnlp.extract.en.copyright.get_copyright(text)\n",
        "print(\"copyrights = \", x)"
      ],
      "execution_count": 0,
      "outputs": [
        {
          "output_type": "stream",
          "text": [
            "copyrights =  <generator object get_copyright at 0x7f4376d7f468>\n"
          ],
          "name": "stdout"
        }
      ]
    },
    {
      "cell_type": "code",
      "metadata": {
        "id": "vD2MFgm7k6sN",
        "colab_type": "code",
        "outputId": "6e87cd78-c3d7-4493-b459-a3986d32df5a",
        "colab": {
          "base_uri": "https://localhost:8080/",
          "height": 34
        }
      },
      "source": [
        "import lexnlp.extract.en.courts\n",
        "court_config_list = []\n",
        "x = lexnlp.extract.en.courts.get_courts(text, court_config_list)\n",
        "print(\"courts = \", x)"
      ],
      "execution_count": 0,
      "outputs": [
        {
          "output_type": "stream",
          "text": [
            "courts =  <generator object get_courts at 0x7f4376fc8ba0>\n"
          ],
          "name": "stdout"
        }
      ]
    },
    {
      "cell_type": "code",
      "metadata": {
        "id": "0QGo0Vx8k68Q",
        "colab_type": "code",
        "outputId": "b321b1a2-4015-437b-ea4d-27065a8f7abb",
        "colab": {
          "base_uri": "https://localhost:8080/",
          "height": 34
        }
      },
      "source": [
        "import lexnlp.extract.en.cusip\n",
        "x = lexnlp.extract.en.cusip.get_cusip(text)\n",
        "print(\"CUSIP = \", x)"
      ],
      "execution_count": 0,
      "outputs": [
        {
          "output_type": "stream",
          "text": [
            "CUSIP =  <generator object get_cusip at 0x7f43760d4678>\n"
          ],
          "name": "stdout"
        }
      ]
    },
    {
      "cell_type": "code",
      "metadata": {
        "id": "H8zHpMLTk7Gn",
        "colab_type": "code",
        "outputId": "418166dd-8465-4001-c5b5-65d562463620",
        "colab": {
          "base_uri": "https://localhost:8080/",
          "height": 156
        }
      },
      "source": [
        "import lexnlp.extract.en.dates\n",
        "x = lexnlp.extract.en.dates.get_dates(text)\n",
        "print(\"dates = \", x)"
      ],
      "execution_count": 0,
      "outputs": [
        {
          "output_type": "stream",
          "text": [
            "/usr/local/lib/python3.6/dist-packages/sklearn/base.py:318: UserWarning: Trying to unpickle estimator SelectKBest from version 0.19.0 when using version 0.22.1. This might lead to breaking code or invalid results. Use at your own risk.\n",
            "  collected_tags = _update_if_consistent(collected_tags,\n",
            "/usr/local/lib/python3.6/dist-packages/sklearn/base.py:318: UserWarning: Trying to unpickle estimator LogisticRegressionCV from version 0.19.0 when using version 0.22.1. This might lead to breaking code or invalid results. Use at your own risk.\n",
            "  collected_tags = _update_if_consistent(collected_tags,\n",
            "/usr/local/lib/python3.6/dist-packages/sklearn/base.py:318: UserWarning: Trying to unpickle estimator Pipeline from version 0.19.0 when using version 0.22.1. This might lead to breaking code or invalid results. Use at your own risk.\n",
            "  collected_tags = _update_if_consistent(collected_tags,\n"
          ],
          "name": "stderr"
        },
        {
          "output_type": "stream",
          "text": [
            "dates =  <generator object get_dates at 0x7f4373d57a98>\n"
          ],
          "name": "stdout"
        }
      ]
    },
    {
      "cell_type": "code",
      "metadata": {
        "id": "TqtTm-y4k7QO",
        "colab_type": "code",
        "outputId": "35e04a7e-3a0a-48bd-e1b2-15b27e6ff202",
        "colab": {
          "base_uri": "https://localhost:8080/",
          "height": 34
        }
      },
      "source": [
        "import lexnlp.extract.en.definitions\n",
        "x = lexnlp.extract.en.definitions.get_definitions(text)\n",
        "print(\"definitions = \", x)"
      ],
      "execution_count": 0,
      "outputs": [
        {
          "output_type": "stream",
          "text": [
            "definitions =  <generator object get_definitions at 0x7f4376f6c150>\n"
          ],
          "name": "stdout"
        }
      ]
    },
    {
      "cell_type": "code",
      "metadata": {
        "id": "MKu3jFD0k7ZM",
        "colab_type": "code",
        "outputId": "40e25f7d-4007-49bd-c677-569e9472182a",
        "colab": {
          "base_uri": "https://localhost:8080/",
          "height": 34
        }
      },
      "source": [
        "import lexnlp.extract.en.distances\n",
        "x = lexnlp.extract.en.distances.get_distances(text)\n",
        "print(\"distances = \", x)"
      ],
      "execution_count": 0,
      "outputs": [
        {
          "output_type": "stream",
          "text": [
            "distances =  <generator object get_distances at 0x7f4372ad7e60>\n"
          ],
          "name": "stdout"
        }
      ]
    },
    {
      "cell_type": "code",
      "metadata": {
        "id": "2yV0Y0zck7iS",
        "colab_type": "code",
        "outputId": "0c155382-f790-41c2-9937-7acc2f3004aa",
        "colab": {
          "base_uri": "https://localhost:8080/",
          "height": 34
        }
      },
      "source": [
        "import lexnlp.extract.en.durations\n",
        "x = lexnlp.extract.en.durations.get_durations(text)\n",
        "print(\"durations = \", x)"
      ],
      "execution_count": 0,
      "outputs": [
        {
          "output_type": "stream",
          "text": [
            "durations =  <generator object get_durations at 0x7f43728c5db0>\n"
          ],
          "name": "stdout"
        }
      ]
    },
    {
      "cell_type": "code",
      "metadata": {
        "id": "Plc32mhLk7rE",
        "colab_type": "code",
        "outputId": "a8d716f3-aa8d-4a0a-ab61-c0d5c5b37187",
        "colab": {
          "base_uri": "https://localhost:8080/",
          "height": 34
        }
      },
      "source": [
        "import lexnlp.extract.en.geoentities\n",
        "x = lexnlp.extract.en.geoentities.get_geoentities(text,geo_config_list=None)\n",
        "print(\"geoentities = \", x)"
      ],
      "execution_count": 0,
      "outputs": [
        {
          "output_type": "stream",
          "text": [
            "geoentities =  <generator object get_geoentities at 0x7f43728bc938>\n"
          ],
          "name": "stdout"
        }
      ]
    },
    {
      "cell_type": "code",
      "metadata": {
        "id": "SfKFy232k7z8",
        "colab_type": "code",
        "outputId": "c6b52ade-2ee2-4db1-df3e-9fb840f6ab5f",
        "colab": {
          "base_uri": "https://localhost:8080/",
          "height": 34
        }
      },
      "source": [
        "import lexnlp.extract.en.money\n",
        "x = lexnlp.extract.en.money.get_money(text)\n",
        "print(\"money = \", x)"
      ],
      "execution_count": 0,
      "outputs": [
        {
          "output_type": "stream",
          "text": [
            "money =  <generator object get_money at 0x7f4372811308>\n"
          ],
          "name": "stdout"
        }
      ]
    },
    {
      "cell_type": "code",
      "metadata": {
        "id": "ETakXSL_k79I",
        "colab_type": "code",
        "outputId": "290ed0c7-52cb-44b4-8484-2ff1b810e4de",
        "colab": {
          "base_uri": "https://localhost:8080/",
          "height": 34
        }
      },
      "source": [
        "import lexnlp.extract.en.percents\n",
        "x = lexnlp.extract.en.percents.get_percents(text)\n",
        "print(\"percents = \", x)"
      ],
      "execution_count": 0,
      "outputs": [
        {
          "output_type": "stream",
          "text": [
            "percents =  <generator object get_percents at 0x7f43728c5b48>\n"
          ],
          "name": "stdout"
        }
      ]
    },
    {
      "cell_type": "code",
      "metadata": {
        "id": "XxOpJiUik8F4",
        "colab_type": "code",
        "outputId": "33da50f4-af3e-4bb9-e1f1-6f65b2b326ee",
        "colab": {
          "base_uri": "https://localhost:8080/",
          "height": 34
        }
      },
      "source": [
        "import lexnlp.extract.en.pii\n",
        "x = lexnlp.extract.en.pii.get_pii(text)\n",
        "print(\"pii = \", x)"
      ],
      "execution_count": 0,
      "outputs": [
        {
          "output_type": "stream",
          "text": [
            "pii =  <generator object get_pii at 0x7f43728c5af0>\n"
          ],
          "name": "stdout"
        }
      ]
    },
    {
      "cell_type": "code",
      "metadata": {
        "id": "NpvwmucNlACj",
        "colab_type": "code",
        "outputId": "7448e49a-cd5e-4fda-b634-4568a6655eae",
        "colab": {
          "base_uri": "https://localhost:8080/",
          "height": 34
        }
      },
      "source": [
        "import lexnlp.extract.en.ratios\n",
        "x = lexnlp.extract.en.ratios.get_ratios(text)\n",
        "print(\"ratios = \", x)"
      ],
      "execution_count": 0,
      "outputs": [
        {
          "output_type": "stream",
          "text": [
            "ratios =  <generator object get_ratios at 0x7f43727ec990>\n"
          ],
          "name": "stdout"
        }
      ]
    },
    {
      "cell_type": "code",
      "metadata": {
        "id": "GEa53PGBlARL",
        "colab_type": "code",
        "outputId": "b1d7bd77-7928-4772-83ab-b7fdd921c5b2",
        "colab": {
          "base_uri": "https://localhost:8080/",
          "height": 34
        }
      },
      "source": [
        "import lexnlp.extract.en.regulations\n",
        "x = lexnlp.extract.en.regulations.get_regulations(text)\n",
        "print(\"regulations = \", x)"
      ],
      "execution_count": 0,
      "outputs": [
        {
          "output_type": "stream",
          "text": [
            "regulations =  <generator object get_regulations at 0x7f43727ecd00>\n"
          ],
          "name": "stdout"
        }
      ]
    },
    {
      "cell_type": "code",
      "metadata": {
        "id": "xKDP2A_zMSl9",
        "colab_type": "code",
        "outputId": "4d3a6635-0039-4a06-b07c-d4c34a36b636",
        "colab": {
          "base_uri": "https://localhost:8080/",
          "height": 34
        }
      },
      "source": [
        "import lexnlp.extract.en.trademarks\n",
        "x = lexnlp.extract.en.trademarks.get_trademarks(text)\n",
        "print(\"trademarks = \", x)"
      ],
      "execution_count": 0,
      "outputs": [
        {
          "output_type": "stream",
          "text": [
            "trademarks =  <generator object get_trademarks at 0x7f43728c5c50>\n"
          ],
          "name": "stdout"
        }
      ]
    },
    {
      "cell_type": "code",
      "metadata": {
        "id": "E-xWSCXNMTQQ",
        "colab_type": "code",
        "outputId": "66330533-e573-413b-f925-5b03c074983d",
        "colab": {
          "base_uri": "https://localhost:8080/",
          "height": 34
        }
      },
      "source": [
        "import lexnlp.extract.en.urls\n",
        "x = lexnlp.extract.en.urls.get_urls(text)\n",
        "print(\"urls = \", x)"
      ],
      "execution_count": 0,
      "outputs": [
        {
          "output_type": "stream",
          "text": [
            "urls =  <generator object get_urls at 0x7f4370b11d58>\n"
          ],
          "name": "stdout"
        }
      ]
    }
  ]
}