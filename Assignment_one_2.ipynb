{
  "nbformat": 4,
  "nbformat_minor": 0,
  "metadata": {
    "colab": {
      "name": "Assignment_one-2.ipynb",
      "provenance": [],
      "collapsed_sections": [],
      "include_colab_link": true
    },
    "kernelspec": {
      "name": "python3",
      "display_name": "Python 3"
    }
  },
  "cells": [
    {
      "cell_type": "markdown",
      "metadata": {
        "id": "view-in-github",
        "colab_type": "text"
      },
      "source": [
        "<a href=\"https://colab.research.google.com/github/NikhithaKunati/INFO5731_Spring2020/blob/master/Assignment_one_2.ipynb\" target=\"_parent\"><img src=\"https://colab.research.google.com/assets/colab-badge.svg\" alt=\"Open In Colab\"/></a>"
      ]
    },
    {
      "cell_type": "markdown",
      "metadata": {
        "id": "BtkWH9qS6t5C",
        "colab_type": "text"
      },
      "source": [
        "# **Assignment 1**"
      ]
    },
    {
      "cell_type": "markdown",
      "metadata": {
        "id": "mqP_WjDd6lax",
        "colab_type": "text"
      },
      "source": [
        "Question 1 :\n",
        "\n",
        "(20 points). Write a Python program to generate 12 random numbers between 1 and 100. Sort the list of numbers in ascending order and print it out. Sort the list of numbers in descending order and print it out. Calculate the average for the group and print it out."
      ]
    },
    {
      "cell_type": "code",
      "metadata": {
        "id": "aPFfceoK6qis",
        "colab_type": "code",
        "outputId": "30455ec4-b704-496b-8fe6-4d85de149fd9",
        "colab": {
          "base_uri": "https://localhost:8080/",
          "height": 108
        }
      },
      "source": [
        "# Your code here\n",
        "\n",
        "import random\n",
        "randNum = []\n",
        "count = 0\n",
        "while count < 12:\n",
        "  n = random.randint(1,100)\n",
        "  if n not in randNum:\n",
        "    randNum.append(n)\n",
        "    count += 1\n",
        "randNum.sort()\n",
        "print(\"Assending order of the generated items: \",randNum)\n",
        "randNum.sort(reverse = True)\n",
        "print(\"Descending order of the generated items: \",randNum) \n",
        "Average = sum(randNum)/len(randNum)\n",
        "print(\"Average order of the generated items: \",Average)"
      ],
      "execution_count": 0,
      "outputs": [
        {
          "output_type": "stream",
          "text": [
            "Assending order of the generated items:  [4, 7, 9, 27, 31, 33, 52, 67, 69, 89, 95, 100]\n",
            "Descending order of the generated items:  [100, 95, 89, 69, 67, 52, 33, 31, 27, 9, 7, 4]\n",
            "Average order of the generated items:  48.583333333333336\n"
          ],
          "name": "stdout"
        }
      ]
    },
    {
      "cell_type": "markdown",
      "metadata": {
        "id": "0BEJ_i5TAMq9",
        "colab_type": "text"
      },
      "source": [
        "Question 2\n",
        "(25 points). Write a program that will do the following string formatting tasks:\n",
        "\n",
        "(1) Ask the user to enter two sentences.\n",
        "\n",
        "(2) Make each sentence into a list. Each element in the list should correspond to a word in the sentence. For example, if the sentence is \"Alas! Am I alive? This is my first python program\", the program should print out ['Alas, '!', 'Am', 'I', 'alive, '?', 'This', 'is', 'my', 'first', 'python', 'program'].\n",
        "\n",
        "(3) Compare the two sentences. Print out a list of words that occur in both sentences.\n",
        "\n",
        "(4) Remove any punctuation from the sentence and print it back out. It should remove at least the following characters, but it can remove more: period(“.”), comma (“,”), semicolon (“;”), and colon (“:”)\n",
        "\n",
        "(5) Count the number of vowels in the sentences. Print out each vowel and the number of times it appears in the sentences, such as: a:2, e:1, i:0, etc"
      ]
    },
    {
      "cell_type": "code",
      "metadata": {
        "id": "6GbOtU3VAN91",
        "colab_type": "code",
        "outputId": "3d363a8e-10db-491b-f325-83dc8ce242d7",
        "colab": {
          "base_uri": "https://localhost:8080/",
          "height": 153
        }
      },
      "source": [
        "# Your code here\n",
        "import sys\n",
        "import string\n",
        "import re\n",
        "\n",
        "sentence1=input(\"Enter First Sentence: \")\n",
        "sentence2=input(\"Enter Second Sentence: \")\n",
        "lst1=re.findall(r\"[\\w']+|[!\\\"#$%&'()*+,-./:;<=>?@[\\]^_`{|}~]\", sentence1)\n",
        "lst2=re.findall(r\"[\\w']+|[!\\\"#$%&'()*+,-./:;<=>?@[\\]^_`{|}~]\", sentence2)\n",
        "print(\"Sentence 1 words :\",lst1)\n",
        "print(\"Sentence 2 words :\",lst2)\n",
        "print(list(set([word.lower() for word in lst1]) & set([word.lower() for word in lst2])))\n",
        "print([word.strip(string.punctuation) for word in sentence1.split()])\n",
        "print([word2.strip(string.punctuation) for word2 in sentence2.split()])\n",
        "print(\"a:\",(sentence1.lower().count('a')+sentence2.lower().count('a')),\",e:\",(sentence1.lower().count('e')+sentence2.lower().count('e')),\"i:\",(sentence1.lower().count('i')+sentence2.lower().count('i')),\"o:\",(sentence1.lower().count('o')+sentence2.lower().count('o')),\"u:\",(sentence1.lower().count('u')+sentence2.lower().count('u')))"
      ],
      "execution_count": 0,
      "outputs": [
        {
          "output_type": "stream",
          "text": [
            "Enter First Sentence: My name .. is Nikky!\n",
            "Enter Second Sentence: This code is Amazing!!!!\n",
            "Sentence 1 words : ['My', 'name', '.', '.', 'is', 'Nikky', '!']\n",
            "Sentence 2 words : ['This', 'code', 'is', 'Amazing', '!', '!', '!', '!']\n",
            "['is', '!']\n",
            "['My', 'name', '', 'is', 'Nikky']\n",
            "['This', 'code', 'is', 'Amazing']\n",
            "a: 3 ,e: 2 i: 5 o: 1 u: 0\n"
          ],
          "name": "stdout"
        }
      ]
    },
    {
      "cell_type": "markdown",
      "metadata": {
        "id": "UQQMvGPkT9gR",
        "colab_type": "text"
      },
      "source": [
        "Question 3\n",
        "(15 points). The formula that describes the volume V of a sphere with radius r is the following:\n",
        "\n",
        "$ V=\\frac{4}{3}\\ast\\ \\pi\\ast\\ r^3 $\n",
        "\n",
        "Write a program to calculate the value of V when r is in the range of 1–10. Output the result in the following format:\n",
        "\n",
        "r    V\n",
        "1    …\n",
        "2    …\n",
        "3    …"
      ]
    },
    {
      "cell_type": "code",
      "metadata": {
        "id": "GtLvKGX0T-ce",
        "colab_type": "code",
        "outputId": "1ced527a-6e5f-46c1-b9b4-7aac6900c4bb",
        "colab": {
          "base_uri": "https://localhost:8080/",
          "height": 187
        }
      },
      "source": [
        "# Your code here\n",
        "import math\n",
        "print(\"r\",\" \",\"V\")\n",
        "for i in range(1,10):\n",
        "  print(i,\" \", (4/3)*3.14*(i**3))"
      ],
      "execution_count": 0,
      "outputs": [
        {
          "output_type": "stream",
          "text": [
            "r   V\n",
            "1   4.1866666666666665\n",
            "2   33.49333333333333\n",
            "3   113.03999999999999\n",
            "4   267.94666666666666\n",
            "5   523.3333333333334\n",
            "6   904.3199999999999\n",
            "7   1436.0266666666666\n",
            "8   2143.5733333333333\n",
            "9   3052.08\n"
          ],
          "name": "stdout"
        }
      ]
    },
    {
      "cell_type": "markdown",
      "metadata": {
        "id": "TSjcBXVEA3dO",
        "colab_type": "text"
      },
      "source": [
        "Question 4\n",
        "(40 points). In the field of Data Science, data is often formatted as a comma-delimited (CSV) file, where each line in a file corresponds to a field's value. Refer to Chapter 9 (p. 106) for more information on comma-delimited files. To answer this question, you will need to download the file Assignment1_denton_housing.csv included with this assignment. The file Assignment1_denton_housing.csv contains statistics about housing in the city of Denton from 2008 to 2014. Write a program to implement the following questions.\n",
        "\n",
        "(1) (10 pts) Calculate the difference in the number of Occupied Housing Units from year to year and print it. The difference must be calculated for the consecutive years such as 2008-2009, 2009-2010 etc. Finally, print the values in the ascending order.\n",
        "\n",
        "(2) (10 pts) For all the years, calculate the percentage of housing units which are vacant an occupied. Print the results in the following format:\n",
        "\n",
        "Year Vacant Housing Units Occupied Housing Units\n",
        "\n",
        "2008  30%   70%                          \n",
        "2009 ----- -----\n",
        "2010 ----- -----\n",
        "2011 ----- -----\n",
        "2012 ----- -----\n",
        "2013 ----- -----\n",
        "2014 ----- -----\n",
        "\n",
        "\n",
        "\n",
        "(3) (10 pts) Calculate and print the valued and years in which the highest number of housing units were vacant and occupied. Print the results in the following format:\n",
        "\n",
        "                          Year    Value\n",
        "Vacant Housing Units      -----   -----\n",
        "Occupied Housing Units    -----   -----\n",
        "\n",
        "(4) (10 pts) Calculate the harmonic mean of the total housing units and print it out. You can find the information about harmonic mean here: https://ncalculators.com/statistics/harmonic-mean-calculator.htm\n",
        "\n"
      ]
    },
    {
      "cell_type": "code",
      "metadata": {
        "id": "r4EIipnyA1Ii",
        "colab_type": "code",
        "colab": {}
      },
      "source": [
        "import pandas as pd\n",
        "import math\n",
        "file=\"Assignment1_denton_housing.csv\"\n",
        "df=pandas.read_csv(file)\n",
        "\n",
        "print(\"--------Point 1 Solution---------\")\n",
        "rows=df.loc[df['title_field']=='Occupied Housing Units']\n",
        "rows=rows.values.tolist()\n",
        "lst=[]\n",
        "for i in range(len(rows)-1,0,-1):\n",
        "    print(rows[i][0],\"-\",rows[i-1][0],\":\",(rows[i][2]-rows[i-1][2]))\n",
        "    lst.append((rows[i][2]-rows[i-1][2]))\n",
        "lst.sort(reverse=False)\n",
        "print(lst)\n",
        "\n",
        "\n",
        "#point 2\n",
        "print(\"--------Point 2 Solution---------\")\n",
        "ohu=dict()\n",
        "vhu=dict()\n",
        "thu=dict()\n",
        "    \n",
        "newrows=df.loc[(df['title_field']=='Vacant Housing Units') | (df['title_field']=='Occupied Housing Units') | (df['title_field']== 'Total Housing Units')]\n",
        "newrows=newrows.sort_values(['year','title_field'],ascending=[1,0]).values.tolist()\n",
        "count=0\n",
        "for i in range(len(rows)):\n",
        "    thu[newrows[i+count+1][0]]=newrows[i+count+1][2]\n",
        "    vhu[newrows[i+count][0]]=newrows[i+count][2]\n",
        "    ohu[newrows[i+count+2][0]]=newrows[i+count+2][2]\n",
        "    print(newrows[i+count][0],\":\",((newrows[i+count][2]/newrows[i+count+1][2])*100),((newrows[i+count+2][2]/newrows[i+count+1][2])*100))\n",
        "    count=count+2\n",
        "\n",
        "#point 3\n",
        "print(\"--------Point 3 Solution---------\")\n",
        "vhukey= max(vhu, key=lambda k: vhu[k])\n",
        "ohukey= max(ohu, key=lambda k: ohu[k])\n",
        "print(\"Vacant Housing Units :\",vhukey,vhu[vhukey])\n",
        "print(\"Occupied Housing Units :\",ohukey,vhu[ohukey])\n",
        "    \n",
        "#point4\n",
        "print(\"--------Point 4 Solution---------\")\n",
        "denomi=0\n",
        "for value in thu.values():\n",
        "    denomi=denomi+(1/value)\n",
        "print(\"Harmonic Mean of the Total Housing Units :\",(len(thu.values())/denomi))"
      ],
      "execution_count": 0,
      "outputs": []
    },
    {
      "cell_type": "markdown",
      "metadata": {
        "id": "S77b2yazColX",
        "colab_type": "text"
      },
      "source": [
        "--------Point 1 Solution---------\n",
        "\n",
        "2008 - 2009 : 795\n",
        "\n",
        "2009 - 2010 : -5091\n",
        "\n",
        "2010 - 2011 : 303\n",
        "\n",
        "2011 - 2012 : -1404\n",
        "\n",
        "2012 - 2013 : -1565\n",
        "\n",
        "2013 - 2014 : -2622\n",
        "\n",
        "[-5091, -2622, -1565, -1404, 303, 795]\n",
        "\n",
        "--------Point 2 Solution---------\n",
        "\n",
        "2008 : 10.88265281351653 89.11734718648347\n",
        "\n",
        "2009 : 9.07111572444872 90.92888427555128\n",
        "\n",
        "2010 : 8.142556337081672 91.85744366291833\n",
        "\n",
        "2011 : 9.379522229890688 90.6204777701093\n",
        "\n",
        "2012 : 6.677600230491346 93.32239976950866\n",
        "\n",
        "2013 : 8.801787504176412 91.19821249582358\n",
        "\n",
        "2014 : 5.730110570363885 94.26988942963611\n",
        "\n",
        "\n",
        "--------Point 3 Solution---------\n",
        "\n",
        "Vacant Housing Units : 2008 4483\n",
        "\n",
        "Occupied Housing Units : 2014 2814\n",
        "\n",
        "--------Point 4 Solution---------\n",
        "\n",
        "Harmonic Mean of the Total Housing Units : 44398.28543969185"
      ]
    }
  ]
}